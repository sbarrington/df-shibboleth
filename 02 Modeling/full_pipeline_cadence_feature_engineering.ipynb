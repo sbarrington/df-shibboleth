{
 "cells": [
  {
   "cell_type": "code",
   "execution_count": null,
   "id": "89fe89e6-15d0-40d4-b3ef-5222c485275a",
   "metadata": {},
   "outputs": [],
   "source": []
  },
  {
   "cell_type": "markdown",
   "id": "40233ab1-3364-4058-af97-fa9ed2652b08",
   "metadata": {},
   "source": [
    "# Cadence Feature Extraction Pipeline"
   ]
  },
  {
   "cell_type": "markdown",
   "id": "d928c316-2b92-4250-b1cd-a38d5f3eb8f7",
   "metadata": {},
   "source": [
    "# Packages and Config"
   ]
  },
  {
   "cell_type": "code",
   "execution_count": 1,
   "id": "ac2b3678-c2d5-4d59-a2f1-2d594cb02d50",
   "metadata": {},
   "outputs": [
    {
     "name": "stderr",
     "output_type": "stream",
     "text": [
      "/home/ubuntu/.local/lib/python3.8/site-packages/pandas/core/computation/expressions.py:20: UserWarning: Pandas requires version '2.7.3' or newer of 'numexpr' (version '2.7.1' currently installed).\n",
      "  from pandas.core.computation.check import NUMEXPR_INSTALLED\n",
      "################################################################################\n",
      "### WARNING, path does not exist: KALDI_ROOT=/mnt/matylda5/iveselyk/Tools/kaldi-trunk\n",
      "###          (please add 'export KALDI_ROOT=<your_path>' in your $HOME/.profile)\n",
      "###          (or run as: KALDI_ROOT=<your_path> python <your_script>.py)\n",
      "################################################################################\n",
      "\n"
     ]
    },
    {
     "name": "stdout",
     "output_type": "stream",
     "text": [
      "WD: /home/ubuntu/testing-code/cadence-modellling\n"
     ]
    }
   ],
   "source": [
    "import sys\n",
    "import random\n",
    "import pandas as pd\n",
    "import os\n",
    "import pathlib\n",
    "import yaml\n",
    "import disvoice\n",
    "import librosa \n",
    "import numpy as np\n",
    "import soundfile as sf\n",
    "import matplotlib.pyplot as plt\n",
    "import scipy.stats as stats\n",
    "from numpy import diff\n",
    "\n",
    "import numpy as np\n",
    "import matplotlib.pyplot as plt\n",
    "from scipy import signal\n",
    "\n",
    "from pydub import AudioSegment, silence\n",
    "from pydub.playback import play\n",
    "\n",
    "# Configure display and plotting options\n",
    "pd.set_option('display.max_rows', None)\n",
    "font = {'family' : 'normal',\n",
    "        'weight' : 'normal',\n",
    "        'size'   : 12}\n",
    "plt.rc('font', **font)\n",
    "\n",
    "# Set WD\n",
    "try:\n",
    "    os.chdir('cadence_modelling/')\n",
    "except:\n",
    "    print(f'WD: {os.getcwd()}')\n",
    "\n",
    "# Import configs\n",
    "with open('/home/ubuntu/configs/config.yaml', 'r') as file:\n",
    "    inputs = yaml.safe_load(file)"
   ]
  },
  {
   "cell_type": "markdown",
   "id": "ed81145b-7a17-44e1-a528-eae0d8625d10",
   "metadata": {},
   "source": [
    "# Ingestion of files"
   ]
  },
  {
   "cell_type": "code",
   "execution_count": 2,
   "id": "34c97b51-ad55-4bc1-97d4-81d981dc839b",
   "metadata": {},
   "outputs": [],
   "source": [
    "# Begin with list of files; here we use an example template while we await the full class ouput\n",
    "def extract_input_files(data_input_path):\n",
    "\n",
    "    all_wav_files = pathlib.Path(data_input_path)\n",
    "    all_wav_files = list(all_wav_files.rglob(\"*.wav\")) + list(all_wav_files.rglob(\"*.WAV\"))\n",
    "    all_wav_files = [str(file) for file in all_wav_files]\n",
    "\n",
    "    #real_resampled_wav_files = [file for file in all_wav_files if 'TIMIT converted' in file]\n",
    "    #fake_resampled_wav_files = [file for file in all_wav_files if not 'TIMIT converted' in file]\n",
    "\n",
    "    flags = [1 if 'TIMIT converted' in str(item) else 0 for item in all_wav_files]\n",
    "    \n",
    "    return all_wav_files, flags #real_resampled_wav_files, fake_resampled_wav_files, flags\n",
    "\n",
    "all_wav_files, flags = extract_input_files('../../data/TIMIT-fake')"
   ]
  },
  {
   "cell_type": "markdown",
   "id": "38ce45c5-3973-45c1-83a0-bd62d2370374",
   "metadata": {},
   "source": [
    "# 1. Set thresholds"
   ]
  },
  {
   "cell_type": "code",
   "execution_count": 3,
   "id": "d36daa05-c713-4511-a1c6-d40e992d4d06",
   "metadata": {},
   "outputs": [],
   "source": [
    "silence_threshold = 0.005 # 0.5 percent (0.005), from '0_cadence_modelling.ipynb'. Previously we used 0.2% in the truncation step.\n",
    "low_pass_filter_cutoff = 10 # from '1_cadence_LJ.ipynb'"
   ]
  },
  {
   "cell_type": "markdown",
   "id": "7af1c150-0e33-4868-9065-4bcc85ae4761",
   "metadata": {},
   "source": [
    "# Balance data"
   ]
  },
  {
   "cell_type": "code",
   "execution_count": 4,
   "id": "4c149975-8a42-46dc-a5fa-7f403bc7e27c",
   "metadata": {},
   "outputs": [],
   "source": [
    "# NEED TO CHECK THIS - does it do it by architecture?\n",
    "def balance_data(all_wav_files):\n",
    "    \n",
    "    folders = set([all_wav_files[i].split('_')[-1].split('.')[0] for i in range(len(all_wav_files))])\n",
    "    \n",
    "    real_resampled_wav_files = [file for file in all_wav_files if 'TIMIT converted' in file]\n",
    "    fake_resampled_wav_files = [file for file in all_wav_files if not 'TIMIT converted' in file]\n",
    "    \n",
    "    # Ensure we take the same number of each phrase for real and fake, downsample the fake files \n",
    "    balanced_real_resampled_wav_files = []\n",
    "    balanced_fake_resampled_wav_files = []\n",
    "    \n",
    "    for folder in folders:\n",
    "        real_examples = [file for file in real_resampled_wav_files if f'_{folder}.' in file]\n",
    "        fake_examples = [file for file in fake_resampled_wav_files if f'_{folder}.' in file]\n",
    "\n",
    "        if len(real_examples) > len(fake_examples):\n",
    "            real_examples = random.sample(real_examples, len(fake_examples))\n",
    "        else:\n",
    "            fake_examples = random.sample(fake_examples, len(real_examples))\n",
    "\n",
    "        [balanced_real_resampled_wav_files.append(file) for file in real_examples]\n",
    "        [balanced_fake_resampled_wav_files.append(file) for file in fake_examples]\n",
    "    \n",
    "    rebalanced_wav_files = balanced_real_resampled_wav_files + balanced_fake_resampled_wav_files\n",
    "    rebalanced_flags = [i for i in np.zeros(len(balanced_real_resampled_wav_files))] + [i for i in np.ones(len(balanced_fake_resampled_wav_files))] \n",
    "    \n",
    "    return rebalanced_wav_files, rebalanced_flags\n",
    "\n",
    "rebalanced_wav_files, rebalanced_flags = balance_data(all_wav_files)\n",
    "\n",
    "# Quick test\n",
    "#print(len(balanced_real_resampled_wav_files), len(balanced_fake_resampled_wav_files))\n",
    "\n",
    "#folders = set([real_resampled_wav_files[i].split('_')[-1].split('.')[0] for i in range(len(real_resampled_wav_files))])\n",
    "\n",
    "#for folder in folders:\n",
    "#    real_fols = [item for item in balanced_real_resampled_wav_files if item.lower().endswith(f'{folder.lower()}.wav')]\n",
    "#    fake_fols = [item for item in balanced_fake_resampled_wav_files if item.lower().endswith(f'{folder.lower()}.wav')]\n",
    "#    if len(real_fols) != len(fake_fols):\n",
    "#           print(len(real_fols), len(fake_fols))"
   ]
  },
  {
   "cell_type": "markdown",
   "id": "a8595f90-f891-40b2-b474-60a5c625399b",
   "metadata": {},
   "source": [
    "# 2. Normalise amplitudes"
   ]
  },
  {
   "cell_type": "code",
   "execution_count": 5,
   "id": "57d3c9e7-f164-46ec-8428-8389c5c679a6",
   "metadata": {},
   "outputs": [],
   "source": [
    "def normalize_audio_amplitudes(all_wav_files):\n",
    "    normalized_audios = []\n",
    "    \n",
    "    for file in all_wav_files:\n",
    "        sample = librosa.load(file)[0]\n",
    "        max_abs = np.max(np.abs(sample))\n",
    "        normalized_sample = sample/max_abs\n",
    "        normalized_audios.append(normalized_sample)\n",
    "        \n",
    "    return normalized_audios"
   ]
  },
  {
   "cell_type": "code",
   "execution_count": null,
   "id": "7400c5f2-6636-4dc1-88b2-12f3d07a9da0",
   "metadata": {},
   "outputs": [],
   "source": [
    "normalized_audios = normalize_audio_amplitudes(all_wav_files)\n",
    "\n",
    "# Perform check\n",
    "i = 0\n",
    "plt.grid()\n",
    "plt.plot(np.arange(len(normalized_audios[i])), normalized_audios[i])\n",
    "plt.title(f\"\")\n",
    "plt.show()"
   ]
  },
  {
   "cell_type": "markdown",
   "id": "8986132e-c15d-4e23-803e-a1cc9417b7b8",
   "metadata": {},
   "source": [
    "# 3. Truncate silences at start and end of clip"
   ]
  },
  {
   "cell_type": "code",
   "execution_count": 6,
   "id": "54004148-b0c7-41cd-9953-122b871d49a7",
   "metadata": {},
   "outputs": [],
   "source": [
    "def truncate_silences(normalized_audios, silence_threshold, window_size=100, counter=0):\n",
    "    truncated_audios = []\n",
    "    start_ids = []\n",
    "    end_ids = []\n",
    "    \n",
    "    for audio in normalized_audios:\n",
    "        counter += 1\n",
    "        if counter % 100 == 0:\n",
    "            print(f'Truncating audio {counter}/{len(normalized_audios)} ({round(counter*100/len(normalized_audios))}%)')\n",
    "\n",
    "        for j in range(len(audio)):\n",
    "            roll_average = np.mean(np.abs(audio[j:j+window_size]))\n",
    "            if roll_average > silence_threshold:\n",
    "                truncation_id_start = j\n",
    "                break\n",
    "\n",
    "        for j in reversed(range(len(audio))):\n",
    "            roll_average = np.mean(np.abs(audio[j-window_size:j]))\n",
    "            if roll_average > silence_threshold:\n",
    "                truncation_id_end = j-window_size\n",
    "                break\n",
    "        truncated_audios.append(audio[truncation_id_start:truncation_id_end])\n",
    "        start_ids.append(truncation_id_start)\n",
    "        end_ids.append(truncation_id_end)\n",
    "    \n",
    "    return truncated_audios, start_ids, end_ids\n",
    "\n",
    "#truncated_audios, start_ids, end_ids = truncate_silences(normalized_audios, silence_threshold, window_size=100)"
   ]
  },
  {
   "cell_type": "code",
   "execution_count": null,
   "id": "e90b5c5d-1633-4f0d-a445-9bb4a4861dbe",
   "metadata": {},
   "outputs": [],
   "source": [
    "# Test\n",
    "#j = 9770\n",
    "#i = 9782\n",
    "\n",
    "#for item in np.arange(j, i):\n",
    "#    print(item)\n",
    "#    plt.grid()\n",
    "#    plt.plot(np.arange(len(normalized_audios[item])), normalized_audios[item])\n",
    "#    plt.title(f\"\")\n",
    "#    plt.axvline(x=start_ids[item], color='r', linestyle='-')\n",
    "#    plt.axvline(x=end_ids[item], color='r', linestyle='-')\n",
    "#    plt.plot(np.arange(len(truncated_audios[item])), truncated_audios[item])\n",
    "#    plt.show()"
   ]
  },
  {
   "cell_type": "markdown",
   "id": "8b000154-fa74-4d27-bf7b-cfece706f9a1",
   "metadata": {},
   "source": [
    "# 4. Features: Pause Extraction"
   ]
  },
  {
   "cell_type": "code",
   "execution_count": 7,
   "id": "2a2d7085-3b90-4c71-8941-620c9b6388ad",
   "metadata": {},
   "outputs": [],
   "source": [
    "def moving_average(x, w):\n",
    "    return np.convolve(x, np.ones(w), 'valid') / w\n",
    "\n",
    "def get_silence(audio, percent, sample_rate=None, cutoff_frequency=None):\n",
    "    thresh = max(abs(audio))*percent\n",
    "    \n",
    "    moving_avg = moving_average(abs(audio), 100)\n",
    "\n",
    "    silent = np.where(abs(moving_avg) < thresh)\n",
    "    voiced = np.where(abs(moving_avg) >= thresh)\n",
    "    \n",
    "    pct_pause = len(silent[0])*100/(len(silent[0])+len(voiced[0]))\n",
    "    pct_voiced = len(voiced[0])*100/(len(silent[0])+len(voiced[0]))\n",
    "    ratio_pause_voiced = len(silent[0])/len(voiced[0]) \n",
    "\n",
    "    return {'pct_pause':pct_pause, 'pct_voiced': pct_voiced, 'ratio_pause_voiced': ratio_pause_voiced}\n",
    "\n",
    "def get_silence_spread(audio, percent, sample_rate=None, cutoff_frequency=None):\n",
    "\n",
    "    thresh = max(abs(audio))*percent\n",
    "    \n",
    "    moving_avg = moving_average(abs(audio), 100)\n",
    "\n",
    "    silent_windows = np.where(moving_avg < thresh)\n",
    "    moving_avg[silent_windows] = 0\n",
    "    silence_count = 0\n",
    "    silence_counts = []\n",
    "    \n",
    "    for i in range(len(moving_avg)-1):\n",
    "        item = moving_avg[i]\n",
    "        next_item = moving_avg[i+1]\n",
    "        \n",
    "        if item != 0 and next_item == 0:\n",
    "            silence_count = 0\n",
    "            \n",
    "        elif item == 0 and next_item == 0:\n",
    "            silence_count += 1\n",
    "            \n",
    "        elif item == 0 and next_item != 0:\n",
    "            silence_counts.append(silence_count)\n",
    "        \n",
    "        else:\n",
    "            continue  \n",
    "    \n",
    "    # Get spreads/means and normalise\n",
    "    spread_of_silences = np.std(silence_counts)/len(moving_avg)\n",
    "    mean_of_silences = np.mean(silence_counts)/len(moving_avg)\n",
    "    n_pauses = len(silence_counts)\n",
    "        \n",
    "    return {'spread_of_silences':spread_of_silences, 'mean_of_silences':mean_of_silences, 'silence_counts':silence_counts, 'n_pauses':n_pauses}\n"
   ]
  },
  {
   "cell_type": "code",
   "execution_count": 8,
   "id": "0193bbf5-4c83-4dd8-b15a-1c5f65159201",
   "metadata": {},
   "outputs": [],
   "source": [
    "def run_all_files(truncated_audios, flags, function, percent, sample_rate=None, cutoff_frequency=None):\n",
    "    # Instantiate results - r=real, f=fake\n",
    "    r_results = []\n",
    "    f_results = []\n",
    "\n",
    "    real_indices = np.array([int(i) for i in range(len(flags)) if flags[i] == 0])\n",
    "    fake_indices = np.array([int(i) for i in range(len(flags)) if flags[i] != 0])\n",
    "    \n",
    "    real_examples = [truncated_audios[i] for i in real_indices]\n",
    "    fake_examples = [truncated_audios[i] for i in fake_indices]\n",
    "\n",
    "    for item in real_examples:\n",
    "        r_result = function(item, percent, sample_rate, cutoff_frequency)\n",
    "        r_results.append(r_result)\n",
    "\n",
    "    for item in fake_examples:\n",
    "        f_result = function(item, percent, sample_rate, cutoff_frequency)\n",
    "        f_results.append(f_result)\n",
    "    \n",
    "    return r_results, f_results\n",
    "\n",
    "#r_results, f_results = run_all_files(truncated_audios, rebalanced_flags, get_silence, silence_threshold)"
   ]
  },
  {
   "cell_type": "code",
   "execution_count": null,
   "id": "64def2d5-15a3-4510-b566-f2df5aeeabe4",
   "metadata": {},
   "outputs": [],
   "source": [
    "r_pauses, f_pauses = run_all_files(truncated_audios, rebalanced_flags, get_silence, silence_threshold)\n",
    "r_silence_spreads, f_silence_spreads = run_all_files(truncated_audios, rebalanced_flags, get_silence_spread, silence_threshold)"
   ]
  },
  {
   "cell_type": "markdown",
   "id": "ea76d6ce-6562-4b5a-a18e-971f031a13df",
   "metadata": {},
   "source": [
    "# Amplitude "
   ]
  },
  {
   "cell_type": "code",
   "execution_count": 11,
   "id": "88544247-1776-4e56-b679-475ec2676aac",
   "metadata": {},
   "outputs": [],
   "source": [
    "def filter_signal(audio, sample_rate, cutoff_frequency):\n",
    "    t = np.arange(len(audio)) / sample_rate \n",
    "    w = cutoff_frequency / (sample_rate / 2) \n",
    "    b, a = signal.butter(5, w, 'low')\n",
    "    smoothed_signal = signal.filtfilt(b, a, audio)\n",
    "    \n",
    "    return smoothed_signal\n",
    "\n",
    "def get_amplitude(audio, percent, sample_rate, cutoff_frequency):\n",
    "\n",
    "    abs_audio = abs(audio)\n",
    "    smoothed_signal = filter_signal(abs_audio, sample_rate, cutoff_frequency)\n",
    "    \n",
    "    deriv_amplitude = np.mean(diff(smoothed_signal))\n",
    "    mean_amplitude = np.mean(smoothed_signal)\n",
    "    \n",
    "        \n",
    "    return {'abs_deriv_amplitude':abs(deriv_amplitude), 'mean_amplitude':mean_amplitude}"
   ]
  },
  {
   "cell_type": "code",
   "execution_count": null,
   "id": "d9490d1f-3feb-4ec7-8282-329ef8fcb575",
   "metadata": {},
   "outputs": [],
   "source": [
    "sr = librosa.load(all_wav_files[0])[1]\n",
    "r_amps, f_amps = run_all_files(truncated_audios, rebalanced_flags, get_amplitude, percent=silence_threshold, sample_rate=sr, cutoff_frequency=low_pass_filter_cutoff)"
   ]
  },
  {
   "cell_type": "markdown",
   "id": "da8612db-c511-4030-a2f8-441feedff22c",
   "metadata": {},
   "source": [
    "# Create features dataframe"
   ]
  },
  {
   "cell_type": "code",
   "execution_count": null,
   "id": "584e4171-a428-427b-80e9-fbe5b0a05dec",
   "metadata": {},
   "outputs": [],
   "source": [
    "r_amps[0]"
   ]
  },
  {
   "cell_type": "code",
   "execution_count": null,
   "id": "98bc7918-99c0-4560-8ad1-8ded050bfc27",
   "metadata": {},
   "outputs": [],
   "source": [
    "print(r_pauses[0]['pct_pause'])\n",
    "print(r_silence_spreads[0])\n",
    "print(r_amps[0])\n",
    "\n",
    "print(len(f_pauses), len(f_silence_spreads), len(f_amps))"
   ]
  },
  {
   "cell_type": "code",
   "execution_count": null,
   "id": "ada3f30a-e46a-4d3d-8d66-477f8bb3d870",
   "metadata": {},
   "outputs": [],
   "source": [
    "features = pd.DataFrame({'file': rebalanced_wav_files, \n",
    "                         'pause_ratio':[item['ratio_pause_voiced'] for item in r_pauses + f_pauses], \n",
    "                         'pause_mean':[item['mean_of_silences'] for item in r_silence_spreads + f_silence_spreads], \n",
    "                         'pause_std':[item['spread_of_silences'] for item in r_silence_spreads + f_silence_spreads],  \n",
    "                         'n_pauses':[item['n_pauses'] for item in r_silence_spreads + f_silence_spreads], \n",
    "                         'amp_deriv':[item['abs_deriv_amplitude'] for item in r_amps + f_amps],\n",
    "                         'amp_mean':[item['mean_amplitude'] for item in r_amps + f_amps], \n",
    "                         'fake':rebalanced_flags})\n",
    "features.head()"
   ]
  },
  {
   "cell_type": "markdown",
   "id": "209913b3-6b23-4377-8b20-633cdc361bf1",
   "metadata": {},
   "source": [
    "# Run full pipeline within single function"
   ]
  },
  {
   "cell_type": "code",
   "execution_count": 29,
   "id": "3fd0ab0c-4807-49e4-86d9-33565472d0ff",
   "metadata": {},
   "outputs": [],
   "source": [
    "def run_cadence_feature_extraction_pipeline(data_input_path = '../../data/TIMIT-fake', silence_threshold = 0.005, low_pass_filter_cutoff = 10):\n",
    "    \n",
    "    ## PREPROCESS\n",
    "    # Extract input files\n",
    "    print('Extracting input files')\n",
    "    all_wav_files, all_flags = extract_input_files(data_input_path)\n",
    "    \n",
    "    # Obtain sample rate\n",
    "    sr = librosa.load(all_wav_files[0])[1]\n",
    "    \n",
    "    # Balance data\n",
    "    print('Balancing data')\n",
    "    rebalanced_wav_files, rebalanced_flags = balance_data(all_wav_files)\n",
    "    \n",
    "    # Normalise amplitudes\n",
    "    print('Normalizing amplitudes')\n",
    "    normalized_audios = normalize_audio_amplitudes(rebalanced_wav_files)\n",
    "    \n",
    "    # Truncate silences\n",
    "    print('Truncating silences')\n",
    "    truncated_audios, start_ids, end_ids = truncate_silences(normalized_audios, silence_threshold, window_size=100)\n",
    "    \n",
    "    ## FEATURE ENGINEERING\n",
    "    # Extract pauses \n",
    "    print('Extracting pauses')\n",
    "    r_pauses, f_pauses = run_all_files(truncated_audios, rebalanced_flags, get_silence, silence_threshold)\n",
    "\n",
    "    # Extract pause spreads\n",
    "    print('Extracting pause spreads')\n",
    "    r_silence_spreads, f_silence_spreads = run_all_files(truncated_audios, rebalanced_flags, get_silence_spread, silence_threshold)\n",
    "\n",
    "    # Extract amplitude and derivative\n",
    "    print('Extracting amplitude features')\n",
    "    r_amps, f_amps = run_all_files(truncated_audios, rebalanced_flags, get_amplitude, silence_threshold, sample_rate=sr, cutoff_frequency=low_pass_filter_cutoff)\n",
    "    \n",
    "    ## FEATURE CONSOLIDATION\n",
    "    # Create dataframe \n",
    "    print('Creating dataframe')\n",
    "    features = pd.DataFrame({'file': rebalanced_wav_files, \n",
    "                         'pause_ratio':[item['ratio_pause_voiced'] for item in r_pauses + f_pauses], \n",
    "                         'pause_mean':[item['mean_of_silences'] for item in r_silence_spreads + f_silence_spreads], \n",
    "                         'pause_std':[item['spread_of_silences'] for item in r_silence_spreads + f_silence_spreads],  \n",
    "                         'n_pauses':[item['n_pauses'] for item in r_silence_spreads + f_silence_spreads], \n",
    "                         'amp_deriv':[item['abs_deriv_amplitude'] for item in r_amps + f_amps],\n",
    "                         'amp_mean':[item['mean_amplitude'] for item in r_amps + f_amps], \n",
    "                         'fake':rebalanced_flags})\n",
    "    \n",
    "    \n",
    "    print('Complete')\n",
    "\n",
    "    return features\n",
    "\n",
    "#features = run_cadence_feature_extraction_pipeline(silence_threshold=0.005)"
   ]
  },
  {
   "cell_type": "code",
   "execution_count": 13,
   "id": "1b8587e3-63db-442c-bdf4-7093a17945bf",
   "metadata": {},
   "outputs": [
    {
     "data": {
      "text/html": [
       "<div>\n",
       "<style scoped>\n",
       "    .dataframe tbody tr th:only-of-type {\n",
       "        vertical-align: middle;\n",
       "    }\n",
       "\n",
       "    .dataframe tbody tr th {\n",
       "        vertical-align: top;\n",
       "    }\n",
       "\n",
       "    .dataframe thead th {\n",
       "        text-align: right;\n",
       "    }\n",
       "</style>\n",
       "<table border=\"1\" class=\"dataframe\">\n",
       "  <thead>\n",
       "    <tr style=\"text-align: right;\">\n",
       "      <th></th>\n",
       "      <th>file</th>\n",
       "      <th>pause_ratio</th>\n",
       "      <th>pause_mean</th>\n",
       "      <th>pause_std</th>\n",
       "      <th>n_pauses</th>\n",
       "      <th>amp_deriv</th>\n",
       "      <th>amp_mean</th>\n",
       "      <th>fake</th>\n",
       "    </tr>\n",
       "  </thead>\n",
       "  <tbody>\n",
       "    <tr>\n",
       "      <th>0</th>\n",
       "      <td>../../data/TIMIT-fake/TIMIT converted/wav_file...</td>\n",
       "      <td>0.181783</td>\n",
       "      <td>0.003125</td>\n",
       "      <td>0.006261</td>\n",
       "      <td>49</td>\n",
       "      <td>9.505970e-08</td>\n",
       "      <td>0.048758</td>\n",
       "      <td>0.0</td>\n",
       "    </tr>\n",
       "    <tr>\n",
       "      <th>1</th>\n",
       "      <td>../../data/TIMIT-fake/TIMIT converted/wav_file...</td>\n",
       "      <td>0.157594</td>\n",
       "      <td>0.002825</td>\n",
       "      <td>0.006588</td>\n",
       "      <td>48</td>\n",
       "      <td>5.639012e-07</td>\n",
       "      <td>0.059706</td>\n",
       "      <td>0.0</td>\n",
       "    </tr>\n",
       "    <tr>\n",
       "      <th>2</th>\n",
       "      <td>../../data/TIMIT-fake/TIMIT converted/wav_file...</td>\n",
       "      <td>0.202561</td>\n",
       "      <td>0.004947</td>\n",
       "      <td>0.009044</td>\n",
       "      <td>32</td>\n",
       "      <td>1.488513e-08</td>\n",
       "      <td>0.050680</td>\n",
       "      <td>0.0</td>\n",
       "    </tr>\n",
       "    <tr>\n",
       "      <th>3</th>\n",
       "      <td>../../data/TIMIT-fake/TIMIT converted/wav_file...</td>\n",
       "      <td>0.091756</td>\n",
       "      <td>0.008824</td>\n",
       "      <td>0.012158</td>\n",
       "      <td>9</td>\n",
       "      <td>4.684491e-08</td>\n",
       "      <td>0.067209</td>\n",
       "      <td>0.0</td>\n",
       "    </tr>\n",
       "    <tr>\n",
       "      <th>4</th>\n",
       "      <td>../../data/TIMIT-fake/TIMIT converted/wav_file...</td>\n",
       "      <td>0.104823</td>\n",
       "      <td>0.002049</td>\n",
       "      <td>0.003823</td>\n",
       "      <td>46</td>\n",
       "      <td>3.374259e-07</td>\n",
       "      <td>0.046344</td>\n",
       "      <td>0.0</td>\n",
       "    </tr>\n",
       "  </tbody>\n",
       "</table>\n",
       "</div>"
      ],
      "text/plain": [
       "                                                file  pause_ratio  pause_mean  \\\n",
       "0  ../../data/TIMIT-fake/TIMIT converted/wav_file...     0.181783    0.003125   \n",
       "1  ../../data/TIMIT-fake/TIMIT converted/wav_file...     0.157594    0.002825   \n",
       "2  ../../data/TIMIT-fake/TIMIT converted/wav_file...     0.202561    0.004947   \n",
       "3  ../../data/TIMIT-fake/TIMIT converted/wav_file...     0.091756    0.008824   \n",
       "4  ../../data/TIMIT-fake/TIMIT converted/wav_file...     0.104823    0.002049   \n",
       "\n",
       "   pause_std  n_pauses     amp_deriv  amp_mean  fake  \n",
       "0   0.006261        49  9.505970e-08  0.048758   0.0  \n",
       "1   0.006588        48  5.639012e-07  0.059706   0.0  \n",
       "2   0.009044        32  1.488513e-08  0.050680   0.0  \n",
       "3   0.012158         9  4.684491e-08  0.067209   0.0  \n",
       "4   0.003823        46  3.374259e-07  0.046344   0.0  "
      ]
     },
     "execution_count": 13,
     "metadata": {},
     "output_type": "execute_result"
    }
   ],
   "source": [
    "features.head()"
   ]
  },
  {
   "cell_type": "markdown",
   "id": "09d5c057-61de-4610-a523-92afa094b875",
   "metadata": {},
   "source": [
    "# X. Test on timit non-processed to see if same results arise"
   ]
  },
  {
   "cell_type": "markdown",
   "id": "45a67cf4-66f6-47d3-acad-e01384255a96",
   "metadata": {},
   "source": [
    "## Logistic regression"
   ]
  },
  {
   "cell_type": "code",
   "execution_count": 38,
   "id": "c32ae9ca-2e40-40b7-ab74-81b482c50a64",
   "metadata": {},
   "outputs": [],
   "source": [
    "features_with_nans = features"
   ]
  },
  {
   "cell_type": "code",
   "execution_count": 41,
   "id": "c9d3010c-889a-4bc2-904e-4f70b6c2d3b4",
   "metadata": {},
   "outputs": [
    {
     "data": {
      "text/plain": [
       "5348"
      ]
     },
     "execution_count": 41,
     "metadata": {},
     "output_type": "execute_result"
    }
   ],
   "source": [
    "# Drop NAs for now \n",
    "nan_indices = features_with_nans[features_with_nans.isna().any(axis=1)].index\n",
    "features = features_with_nans.drop(nan_indices, axis=0)\n",
    "len(features)"
   ]
  },
  {
   "cell_type": "code",
   "execution_count": 44,
   "id": "49453e86-24e1-43eb-962a-be22d1b89561",
   "metadata": {},
   "outputs": [],
   "source": [
    "# Prepare data \n",
    "from sklearn.model_selection import train_test_split\n",
    "from sklearn.preprocessing import MinMaxScaler\n",
    "\n",
    "X_train, X_test, y_train, y_test = train_test_split(features.iloc[:, 1:-1], features['fake'], test_size=0.25, random_state=0)\n",
    "\n",
    "scaler = MinMaxScaler()\n",
    "\n",
    "X_train_norm = scaler.fit_transform(X_train)\n",
    "X_test_norm = scaler.transform(X_test)"
   ]
  },
  {
   "cell_type": "code",
   "execution_count": 45,
   "id": "5667ac68-847d-4d70-8e62-11b794d82638",
   "metadata": {},
   "outputs": [
    {
     "name": "stderr",
     "output_type": "stream",
     "text": [
      "findfont: Font family ['normal'] not found. Falling back to DejaVu Sans.\n"
     ]
    },
    {
     "name": "stdout",
     "output_type": "stream",
     "text": [
      "0.8960359012715033\n",
      "Feature: 0, Score: -6.12156\n",
      "Feature: 1, Score: -1.81311\n",
      "Feature: 2, Score: -3.26143\n",
      "Feature: 3, Score: -0.07837\n",
      "Feature: 4, Score: 1.99840\n",
      "Feature: 5, Score: 14.74101\n"
     ]
    },
    {
     "data": {
      "image/png": "[encoded data removed]",
      "text/plain": [
       "<Figure size 432x288 with 1 Axes>"
      ]
     },
     "metadata": {
      "needs_background": "light"
     },
     "output_type": "display_data"
    }
   ],
   "source": [
    "# Logistic Regression\n",
    "from sklearn.linear_model import LogisticRegression\n",
    "clf = LogisticRegression(random_state=0).fit(X_train_norm, y_train)\n",
    "print(clf.score(X_test_norm, y_test))\n",
    "\n",
    "importance = clf.coef_[0]\n",
    "for i,v in enumerate(importance):\n",
    "    print('Feature: %0d, Score: %.5f' % (i,v))\n",
    "# plot feature importance\n",
    "plt.bar([x for x in range(len(importance))], importance)\n",
    "plt.show()"
   ]
  },
  {
   "cell_type": "markdown",
   "id": "7697758d-41e6-46eb-afe8-d2618ced5396",
   "metadata": {
    "tags": []
   },
   "source": [
    "## Pause ratio only"
   ]
  },
  {
   "cell_type": "code",
   "execution_count": 46,
   "id": "fa1fd08b-c2c6-45dd-bbd9-aa6d76348880",
   "metadata": {},
   "outputs": [
    {
     "name": "stdout",
     "output_type": "stream",
     "text": [
      "0.7950635751682872\n"
     ]
    }
   ],
   "source": [
    "X_train, X_test, y_train, y_test = train_test_split(features[['pause_ratio']], features['fake'], test_size=0.25, random_state=0)\n",
    "\n",
    "scaler = MinMaxScaler()\n",
    "\n",
    "X_train_norm = scaler.fit_transform(X_train)\n",
    "X_test_norm = scaler.transform(X_test)\n",
    "\n",
    "clf = LogisticRegression(random_state=0).fit(X_train_norm, y_train)\n",
    "print(clf.score(X_test_norm, y_test))"
   ]
  },
  {
   "cell_type": "markdown",
   "id": "08f34975-2056-41d2-9952-e94724d2f17f",
   "metadata": {
    "tags": []
   },
   "source": [
    "## N Pauses only"
   ]
  },
  {
   "cell_type": "code",
   "execution_count": 47,
   "id": "93b532ab-783a-4ef8-8740-4ff821a3d3e4",
   "metadata": {},
   "outputs": [
    {
     "name": "stdout",
     "output_type": "stream",
     "text": [
      "0.6866118175018698\n"
     ]
    }
   ],
   "source": [
    "X_train, X_test, y_train, y_test = train_test_split(features[['n_pauses']], features['fake'], test_size=0.25, random_state=0)\n",
    "\n",
    "scaler = MinMaxScaler()\n",
    "\n",
    "X_train_norm = scaler.fit_transform(X_train)\n",
    "X_test_norm = scaler.transform(X_test)\n",
    "\n",
    "clf = LogisticRegression(random_state=0).fit(X_train_norm, y_train)\n",
    "print(clf.score(X_test_norm, y_test))"
   ]
  },
  {
   "cell_type": "markdown",
   "id": "e44f4165-b0ba-4402-9fda-c076a5e6fb1c",
   "metadata": {},
   "source": [
    "## Amplitude only"
   ]
  },
  {
   "cell_type": "code",
   "execution_count": 73,
   "id": "dcc026ac-7601-46cb-a802-788885656f13",
   "metadata": {},
   "outputs": [
    {
     "name": "stdout",
     "output_type": "stream",
     "text": [
      "0.8765893792071803\n"
     ]
    }
   ],
   "source": [
    "X_train, X_test, y_train, y_test = train_test_split(features[['amp_mean']], features['fake'], test_size=0.25, random_state=0)\n",
    "\n",
    "scaler = MinMaxScaler()\n",
    "\n",
    "X_train_norm = scaler.fit_transform(X_train)\n",
    "X_test_norm = scaler.transform(X_test)\n",
    "\n",
    "clf = LogisticRegression(random_state=0).fit(X_train_norm, y_train)\n",
    "print(clf.score(X_test_norm, y_test))"
   ]
  },
  {
   "cell_type": "markdown",
   "id": "cf07ab1d-29e9-404c-9399-52c9851e9839",
   "metadata": {
    "tags": []
   },
   "source": [
    "# Experiment 8: SVC"
   ]
  },
  {
   "cell_type": "code",
   "execution_count": 49,
   "id": "f299c997-e314-4812-80a5-070b2b4f935a",
   "metadata": {},
   "outputs": [
    {
     "data": {
      "text/plain": [
       "0.9020194465220643"
      ]
     },
     "execution_count": 49,
     "metadata": {},
     "output_type": "execute_result"
    }
   ],
   "source": [
    "from sklearn import svm\n",
    "X_train, X_test, y_train, y_test = train_test_split(features.iloc[:, 1:-1], features['fake'], test_size=0.25, random_state=0)\n",
    "\n",
    "scaler = MinMaxScaler()\n",
    "\n",
    "X_train_norm = scaler.fit_transform(X_train)\n",
    "X_test_norm = scaler.transform(X_test)\n",
    "\n",
    "clf = svm.SVC()\n",
    "clf.fit(X_train_norm, y_train)\n",
    "clf.score(X_test_norm, y_test)"
   ]
  },
  {
   "cell_type": "code",
   "execution_count": 50,
   "id": "802bd560-a427-4963-a911-783b3fbbe44e",
   "metadata": {},
   "outputs": [
    {
     "name": "stdout",
     "output_type": "stream",
     "text": [
      "Fitting 5 folds for each of 25 candidates, totalling 125 fits\n",
      "[CV 1/5] END ........C=0.1, gamma=1, kernel=rbf;, score=0.687 total time=   0.3s\n",
      "[CV 2/5] END ........C=0.1, gamma=1, kernel=rbf;, score=0.723 total time=   0.3s\n",
      "[CV 3/5] END ........C=0.1, gamma=1, kernel=rbf;, score=0.698 total time=   0.3s\n",
      "[CV 4/5] END ........C=0.1, gamma=1, kernel=rbf;, score=0.717 total time=   0.3s\n",
      "[CV 5/5] END ........C=0.1, gamma=1, kernel=rbf;, score=0.714 total time=   0.3s\n",
      "[CV 1/5] END ......C=0.1, gamma=0.1, kernel=rbf;, score=0.687 total time=   0.3s\n",
      "[CV 2/5] END ......C=0.1, gamma=0.1, kernel=rbf;, score=0.714 total time=   0.3s\n",
      "[CV 3/5] END ......C=0.1, gamma=0.1, kernel=rbf;, score=0.702 total time=   0.3s\n",
      "[CV 4/5] END ......C=0.1, gamma=0.1, kernel=rbf;, score=0.719 total time=   0.3s\n",
      "[CV 5/5] END ......C=0.1, gamma=0.1, kernel=rbf;, score=0.714 total time=   0.3s\n",
      "[CV 1/5] END .....C=0.1, gamma=0.01, kernel=rbf;, score=0.699 total time=   0.3s\n",
      "[CV 2/5] END .....C=0.1, gamma=0.01, kernel=rbf;, score=0.714 total time=   0.3s\n",
      "[CV 3/5] END .....C=0.1, gamma=0.01, kernel=rbf;, score=0.702 total time=   0.3s\n",
      "[CV 4/5] END .....C=0.1, gamma=0.01, kernel=rbf;, score=0.719 total time=   0.3s\n",
      "[CV 5/5] END .....C=0.1, gamma=0.01, kernel=rbf;, score=0.714 total time=   0.3s\n",
      "[CV 1/5] END ....C=0.1, gamma=0.001, kernel=rbf;, score=0.696 total time=   0.2s\n",
      "[CV 2/5] END ....C=0.1, gamma=0.001, kernel=rbf;, score=0.719 total time=   0.2s\n",
      "[CV 3/5] END ....C=0.1, gamma=0.001, kernel=rbf;, score=0.707 total time=   0.2s\n",
      "[CV 4/5] END ....C=0.1, gamma=0.001, kernel=rbf;, score=0.717 total time=   0.3s\n",
      "[CV 5/5] END ....C=0.1, gamma=0.001, kernel=rbf;, score=0.714 total time=   0.2s\n",
      "[CV 1/5] END ...C=0.1, gamma=0.0001, kernel=rbf;, score=0.680 total time=   0.3s\n",
      "[CV 2/5] END ...C=0.1, gamma=0.0001, kernel=rbf;, score=0.703 total time=   0.3s\n",
      "[CV 3/5] END ...C=0.1, gamma=0.0001, kernel=rbf;, score=0.698 total time=   0.3s\n",
      "[CV 4/5] END ...C=0.1, gamma=0.0001, kernel=rbf;, score=0.707 total time=   0.3s\n",
      "[CV 5/5] END ...C=0.1, gamma=0.0001, kernel=rbf;, score=0.698 total time=   0.3s\n",
      "[CV 1/5] END ..........C=1, gamma=1, kernel=rbf;, score=0.714 total time=   0.3s\n",
      "[CV 2/5] END ..........C=1, gamma=1, kernel=rbf;, score=0.746 total time=   0.3s\n",
      "[CV 3/5] END ..........C=1, gamma=1, kernel=rbf;, score=0.734 total time=   0.3s\n",
      "[CV 4/5] END ..........C=1, gamma=1, kernel=rbf;, score=0.743 total time=   0.3s\n",
      "[CV 5/5] END ..........C=1, gamma=1, kernel=rbf;, score=0.743 total time=   0.3s\n",
      "[CV 1/5] END ........C=1, gamma=0.1, kernel=rbf;, score=0.697 total time=   0.2s\n",
      "[CV 2/5] END ........C=1, gamma=0.1, kernel=rbf;, score=0.718 total time=   0.2s\n",
      "[CV 3/5] END ........C=1, gamma=0.1, kernel=rbf;, score=0.708 total time=   0.3s\n",
      "[CV 4/5] END ........C=1, gamma=0.1, kernel=rbf;, score=0.734 total time=   0.2s\n",
      "[CV 5/5] END ........C=1, gamma=0.1, kernel=rbf;, score=0.719 total time=   0.3s\n",
      "[CV 1/5] END .......C=1, gamma=0.01, kernel=rbf;, score=0.700 total time=   0.3s\n",
      "[CV 2/5] END .......C=1, gamma=0.01, kernel=rbf;, score=0.716 total time=   0.3s\n",
      "[CV 3/5] END .......C=1, gamma=0.01, kernel=rbf;, score=0.704 total time=   0.3s\n",
      "[CV 4/5] END .......C=1, gamma=0.01, kernel=rbf;, score=0.723 total time=   0.3s\n",
      "[CV 5/5] END .......C=1, gamma=0.01, kernel=rbf;, score=0.714 total time=   0.3s\n",
      "[CV 1/5] END ......C=1, gamma=0.001, kernel=rbf;, score=0.696 total time=   0.3s\n",
      "[CV 2/5] END ......C=1, gamma=0.001, kernel=rbf;, score=0.719 total time=   0.3s\n",
      "[CV 3/5] END ......C=1, gamma=0.001, kernel=rbf;, score=0.707 total time=   0.3s\n",
      "[CV 4/5] END ......C=1, gamma=0.001, kernel=rbf;, score=0.717 total time=   0.3s\n",
      "[CV 5/5] END ......C=1, gamma=0.001, kernel=rbf;, score=0.714 total time=   0.3s\n",
      "[CV 1/5] END .....C=1, gamma=0.0001, kernel=rbf;, score=0.689 total time=   0.3s\n",
      "[CV 2/5] END .....C=1, gamma=0.0001, kernel=rbf;, score=0.717 total time=   0.3s\n",
      "[CV 3/5] END .....C=1, gamma=0.0001, kernel=rbf;, score=0.701 total time=   0.3s\n",
      "[CV 4/5] END .....C=1, gamma=0.0001, kernel=rbf;, score=0.713 total time=   0.3s\n",
      "[CV 5/5] END .....C=1, gamma=0.0001, kernel=rbf;, score=0.712 total time=   0.3s\n",
      "[CV 1/5] END .........C=10, gamma=1, kernel=rbf;, score=0.822 total time=   0.2s\n",
      "[CV 2/5] END .........C=10, gamma=1, kernel=rbf;, score=0.838 total time=   0.2s\n",
      "[CV 3/5] END .........C=10, gamma=1, kernel=rbf;, score=0.848 total time=   0.2s\n",
      "[CV 4/5] END .........C=10, gamma=1, kernel=rbf;, score=0.845 total time=   0.3s\n",
      "[CV 5/5] END .........C=10, gamma=1, kernel=rbf;, score=0.850 total time=   0.2s\n",
      "[CV 1/5] END .......C=10, gamma=0.1, kernel=rbf;, score=0.777 total time=   0.2s\n",
      "[CV 2/5] END .......C=10, gamma=0.1, kernel=rbf;, score=0.800 total time=   0.2s\n",
      "[CV 3/5] END .......C=10, gamma=0.1, kernel=rbf;, score=0.807 total time=   0.3s\n",
      "[CV 4/5] END .......C=10, gamma=0.1, kernel=rbf;, score=0.807 total time=   0.2s\n",
      "[CV 5/5] END .......C=10, gamma=0.1, kernel=rbf;, score=0.812 total time=   0.2s\n",
      "[CV 1/5] END ......C=10, gamma=0.01, kernel=rbf;, score=0.717 total time=   0.3s\n",
      "[CV 2/5] END ......C=10, gamma=0.01, kernel=rbf;, score=0.748 total time=   0.3s\n",
      "[CV 3/5] END ......C=10, gamma=0.01, kernel=rbf;, score=0.731 total time=   0.3s\n",
      "[CV 4/5] END ......C=10, gamma=0.01, kernel=rbf;, score=0.761 total time=   0.3s\n",
      "[CV 5/5] END ......C=10, gamma=0.01, kernel=rbf;, score=0.744 total time=   0.3s\n",
      "[CV 1/5] END .....C=10, gamma=0.001, kernel=rbf;, score=0.705 total time=   0.3s\n",
      "[CV 2/5] END .....C=10, gamma=0.001, kernel=rbf;, score=0.732 total time=   0.3s\n",
      "[CV 3/5] END .....C=10, gamma=0.001, kernel=rbf;, score=0.713 total time=   0.3s\n",
      "[CV 4/5] END .....C=10, gamma=0.001, kernel=rbf;, score=0.737 total time=   0.3s\n",
      "[CV 5/5] END .....C=10, gamma=0.001, kernel=rbf;, score=0.724 total time=   0.3s\n",
      "[CV 1/5] END ....C=10, gamma=0.0001, kernel=rbf;, score=0.700 total time=   0.3s\n",
      "[CV 2/5] END ....C=10, gamma=0.0001, kernel=rbf;, score=0.716 total time=   0.3s\n",
      "[CV 3/5] END ....C=10, gamma=0.0001, kernel=rbf;, score=0.702 total time=   0.3s\n",
      "[CV 4/5] END ....C=10, gamma=0.0001, kernel=rbf;, score=0.721 total time=   0.3s\n",
      "[CV 5/5] END ....C=10, gamma=0.0001, kernel=rbf;, score=0.714 total time=   0.3s\n",
      "[CV 1/5] END ........C=100, gamma=1, kernel=rbf;, score=0.888 total time=   0.2s\n",
      "[CV 2/5] END ........C=100, gamma=1, kernel=rbf;, score=0.888 total time=   0.2s\n",
      "[CV 3/5] END ........C=100, gamma=1, kernel=rbf;, score=0.890 total time=   0.2s\n",
      "[CV 4/5] END ........C=100, gamma=1, kernel=rbf;, score=0.882 total time=   0.2s\n",
      "[CV 5/5] END ........C=100, gamma=1, kernel=rbf;, score=0.898 total time=   0.2s\n",
      "[CV 1/5] END ......C=100, gamma=0.1, kernel=rbf;, score=0.878 total time=   0.2s\n",
      "[CV 2/5] END ......C=100, gamma=0.1, kernel=rbf;, score=0.869 total time=   0.2s\n",
      "[CV 3/5] END ......C=100, gamma=0.1, kernel=rbf;, score=0.898 total time=   0.2s\n",
      "[CV 4/5] END ......C=100, gamma=0.1, kernel=rbf;, score=0.879 total time=   0.2s\n",
      "[CV 5/5] END ......C=100, gamma=0.1, kernel=rbf;, score=0.889 total time=   0.2s\n",
      "[CV 1/5] END .....C=100, gamma=0.01, kernel=rbf;, score=0.841 total time=   0.3s\n",
      "[CV 2/5] END .....C=100, gamma=0.01, kernel=rbf;, score=0.844 total time=   0.3s\n",
      "[CV 3/5] END .....C=100, gamma=0.01, kernel=rbf;, score=0.848 total time=   0.3s\n",
      "[CV 4/5] END .....C=100, gamma=0.01, kernel=rbf;, score=0.845 total time=   0.3s\n",
      "[CV 5/5] END .....C=100, gamma=0.01, kernel=rbf;, score=0.862 total time=   0.3s\n",
      "[CV 1/5] END ....C=100, gamma=0.001, kernel=rbf;, score=0.758 total time=   0.3s\n",
      "[CV 2/5] END ....C=100, gamma=0.001, kernel=rbf;, score=0.776 total time=   0.3s\n",
      "[CV 3/5] END ....C=100, gamma=0.001, kernel=rbf;, score=0.773 total time=   0.3s\n",
      "[CV 4/5] END ....C=100, gamma=0.001, kernel=rbf;, score=0.783 total time=   0.3s\n",
      "[CV 5/5] END ....C=100, gamma=0.001, kernel=rbf;, score=0.783 total time=   0.3s\n",
      "[CV 1/5] END ...C=100, gamma=0.0001, kernel=rbf;, score=0.707 total time=   0.3s\n",
      "[CV 2/5] END ...C=100, gamma=0.0001, kernel=rbf;, score=0.738 total time=   0.3s\n",
      "[CV 3/5] END ...C=100, gamma=0.0001, kernel=rbf;, score=0.722 total time=   0.3s\n",
      "[CV 4/5] END ...C=100, gamma=0.0001, kernel=rbf;, score=0.747 total time=   0.3s\n",
      "[CV 5/5] END ...C=100, gamma=0.0001, kernel=rbf;, score=0.733 total time=   0.3s\n",
      "[CV 1/5] END .......C=1000, gamma=1, kernel=rbf;, score=0.894 total time=   0.2s\n",
      "[CV 2/5] END .......C=1000, gamma=1, kernel=rbf;, score=0.890 total time=   0.2s\n",
      "[CV 3/5] END .......C=1000, gamma=1, kernel=rbf;, score=0.890 total time=   0.2s\n",
      "[CV 4/5] END .......C=1000, gamma=1, kernel=rbf;, score=0.877 total time=   0.2s\n",
      "[CV 5/5] END .......C=1000, gamma=1, kernel=rbf;, score=0.892 total time=   0.2s\n",
      "[CV 1/5] END .....C=1000, gamma=0.1, kernel=rbf;, score=0.892 total time=   0.4s\n",
      "[CV 2/5] END .....C=1000, gamma=0.1, kernel=rbf;, score=0.897 total time=   0.4s\n",
      "[CV 3/5] END .....C=1000, gamma=0.1, kernel=rbf;, score=0.914 total time=   0.3s\n",
      "[CV 4/5] END .....C=1000, gamma=0.1, kernel=rbf;, score=0.880 total time=   0.4s\n",
      "[CV 5/5] END .....C=1000, gamma=0.1, kernel=rbf;, score=0.895 total time=   0.4s\n",
      "[CV 1/5] END ....C=1000, gamma=0.01, kernel=rbf;, score=0.894 total time=   0.3s\n",
      "[CV 2/5] END ....C=1000, gamma=0.01, kernel=rbf;, score=0.894 total time=   0.3s\n",
      "[CV 3/5] END ....C=1000, gamma=0.01, kernel=rbf;, score=0.906 total time=   0.3s\n",
      "[CV 4/5] END ....C=1000, gamma=0.01, kernel=rbf;, score=0.893 total time=   0.3s\n",
      "[CV 5/5] END ....C=1000, gamma=0.01, kernel=rbf;, score=0.901 total time=   0.3s\n",
      "[CV 1/5] END ...C=1000, gamma=0.001, kernel=rbf;, score=0.869 total time=   0.3s\n",
      "[CV 2/5] END ...C=1000, gamma=0.001, kernel=rbf;, score=0.857 total time=   0.3s\n",
      "[CV 3/5] END ...C=1000, gamma=0.001, kernel=rbf;, score=0.888 total time=   0.3s\n",
      "[CV 4/5] END ...C=1000, gamma=0.001, kernel=rbf;, score=0.870 total time=   0.3s\n",
      "[CV 5/5] END ...C=1000, gamma=0.001, kernel=rbf;, score=0.885 total time=   0.3s\n",
      "[CV 1/5] END ..C=1000, gamma=0.0001, kernel=rbf;, score=0.786 total time=   0.3s\n",
      "[CV 2/5] END ..C=1000, gamma=0.0001, kernel=rbf;, score=0.794 total time=   0.4s\n",
      "[CV 3/5] END ..C=1000, gamma=0.0001, kernel=rbf;, score=0.808 total time=   0.3s\n",
      "[CV 4/5] END ..C=1000, gamma=0.0001, kernel=rbf;, score=0.802 total time=   0.3s\n",
      "[CV 5/5] END ..C=1000, gamma=0.0001, kernel=rbf;, score=0.808 total time=   0.3s\n",
      "{'C': 1000, 'gamma': 0.01, 'kernel': 'rbf'}\n",
      "SVC(C=1000, gamma=0.01)\n"
     ]
    }
   ],
   "source": [
    "from sklearn.model_selection import GridSearchCV\n",
    "\n",
    "param_grid = {'C': [0.1, 1, 10, 100, 1000], \n",
    "              'gamma': [1, 0.1, 0.01, 0.001, 0.0001],\n",
    "              'kernel': ['rbf']} \n",
    "  \n",
    "grid = GridSearchCV(clf, param_grid, refit = True, verbose = 3)\n",
    "  \n",
    "# fitting the model for grid search\n",
    "grid.fit(X_train, y_train)\n",
    "\n",
    "print(grid.best_params_)\n",
    "  \n",
    "print(grid.best_estimator_)"
   ]
  },
  {
   "cell_type": "code",
   "execution_count": 51,
   "id": "6e04eb81-6e51-4730-be28-8f9ef440a323",
   "metadata": {},
   "outputs": [
    {
     "data": {
      "text/plain": [
       "0.9020194465220643"
      ]
     },
     "execution_count": 51,
     "metadata": {},
     "output_type": "execute_result"
    }
   ],
   "source": [
    "clf = svm.SVC(C=1000, gamma=0.1, kernel='rbf')\n",
    "clf.fit(X_train_norm, y_train)\n",
    "clf.score(X_test_norm, y_test)"
   ]
  },
  {
   "cell_type": "code",
   "execution_count": 52,
   "id": "5146c00c-fe6c-4ffd-9371-9ebbaf9e4927",
   "metadata": {},
   "outputs": [
    {
     "data": {
      "image/png": "[encoded data removed]",
      "text/plain": [
       "<Figure size 432x288 with 1 Axes>"
      ]
     },
     "metadata": {
      "needs_background": "light"
     },
     "output_type": "display_data"
    },
    {
     "data": {
      "text/plain": [
       "0.9041697147037308"
      ]
     },
     "execution_count": 52,
     "metadata": {},
     "output_type": "execute_result"
    }
   ],
   "source": [
    "from sklearn.metrics import RocCurveDisplay, f1_score\n",
    "\n",
    "RocCurveDisplay.from_estimator(clf, X_test_norm, y_test)\n",
    "plt.show()\n",
    "\n",
    "y_pred = clf.predict(X_test_norm)\n",
    "f1_score(y_test, y_pred)"
   ]
  },
  {
   "cell_type": "markdown",
   "id": "3a0a581d-3240-49bd-b62d-c983079fa497",
   "metadata": {},
   "source": [
    "# In the wild test\n",
    "https://www.reddit.com/r/ElevenLabs/comments/122wrs0/biden_addresses_the_growing_skooma_use_in_skyrim/\n",
    "\n",
    "Via TubeRipper https://tuberipper.com/279/"
   ]
  },
  {
   "cell_type": "code",
   "execution_count": 83,
   "id": "1f853f86-45b1-41b0-8aac-790af0c87b9a",
   "metadata": {},
   "outputs": [
    {
     "name": "stdout",
     "output_type": "stream",
     "text": [
      "Extracting input files\n",
      "Normalizing amplitudes\n",
      "Truncating silences\n",
      "Extracting pauses\n",
      "Extracting pause spreads\n",
      "Extracting amplitude features\n",
      "Creating dataframe\n",
      "Complete\n"
     ]
    }
   ],
   "source": [
    "def run_cadence_test(data_input_path, flags = [1], silence_threshold = 0.005, low_pass_filter_cutoff = 10):\n",
    "    \n",
    "    ## PREPROCESS\n",
    "    # Extract input files\n",
    "    print('Extracting input files')\n",
    "    all_wav_files, _ = extract_input_files(data_input_path)\n",
    "    \n",
    "    # Obtain sample rate\n",
    "    sr = librosa.load(all_wav_files[0])[1]\n",
    "    \n",
    "    # Normalise amplitudes\n",
    "    print('Normalizing amplitudes')\n",
    "    normalized_audios = normalize_audio_amplitudes(all_wav_files)\n",
    "    \n",
    "    # Truncate silences\n",
    "    print('Truncating silences')\n",
    "    truncated_audios, start_ids, end_ids = truncate_silences(normalized_audios, silence_threshold, window_size=100)\n",
    "    \n",
    "    ## FEATURE ENGINEERING\n",
    "    # Extract pauses \n",
    "    print('Extracting pauses')\n",
    "    r_pauses, f_pauses = run_all_files(truncated_audios, flags, get_silence, silence_threshold)\n",
    "\n",
    "    # Extract pause spreads\n",
    "    print('Extracting pause spreads')\n",
    "    r_silence_spreads, f_silence_spreads = run_all_files(truncated_audios, flags, get_silence_spread, silence_threshold)\n",
    "\n",
    "    # Extract amplitude and derivative\n",
    "    print('Extracting amplitude features')\n",
    "    r_amps, f_amps = run_all_files(truncated_audios, flags, get_amplitude, silence_threshold, sample_rate=sr, cutoff_frequency=low_pass_filter_cutoff)\n",
    "    \n",
    "    ## FEATURE CONSOLIDATION\n",
    "    # Create dataframe \n",
    "    print('Creating dataframe')\n",
    "    features = pd.DataFrame({'file': all_wav_files, \n",
    "                         'pause_ratio':[item['ratio_pause_voiced'] for item in r_pauses + f_pauses], \n",
    "                         'pause_mean':[item['mean_of_silences'] for item in r_silence_spreads + f_silence_spreads], \n",
    "                         'pause_std':[item['spread_of_silences'] for item in r_silence_spreads + f_silence_spreads],  \n",
    "                         'n_pauses':[item['n_pauses'] for item in r_silence_spreads + f_silence_spreads], \n",
    "                         'amp_deriv':[item['abs_deriv_amplitude'] for item in r_amps + f_amps],\n",
    "                         'amp_mean':[item['mean_amplitude'] for item in r_amps + f_amps], \n",
    "                         'fake':flags})\n",
    "    \n",
    "    \n",
    "    print('Complete')\n",
    "\n",
    "    return features\n",
    "\n",
    "test_features = run_cadence_test('test_biden')"
   ]
  },
  {
   "cell_type": "code",
   "execution_count": 84,
   "id": "5a4b2f4e-6b8f-49d4-bfc0-d1bf89d13096",
   "metadata": {},
   "outputs": [
    {
     "data": {
      "text/html": [
       "<div>\n",
       "<style scoped>\n",
       "    .dataframe tbody tr th:only-of-type {\n",
       "        vertical-align: middle;\n",
       "    }\n",
       "\n",
       "    .dataframe tbody tr th {\n",
       "        vertical-align: top;\n",
       "    }\n",
       "\n",
       "    .dataframe thead th {\n",
       "        text-align: right;\n",
       "    }\n",
       "</style>\n",
       "<table border=\"1\" class=\"dataframe\">\n",
       "  <thead>\n",
       "    <tr style=\"text-align: right;\">\n",
       "      <th></th>\n",
       "      <th>file</th>\n",
       "      <th>pause_ratio</th>\n",
       "      <th>pause_mean</th>\n",
       "      <th>pause_std</th>\n",
       "      <th>n_pauses</th>\n",
       "      <th>amp_deriv</th>\n",
       "      <th>amp_mean</th>\n",
       "      <th>fake</th>\n",
       "    </tr>\n",
       "  </thead>\n",
       "  <tbody>\n",
       "    <tr>\n",
       "      <th>0</th>\n",
       "      <td>test_biden/test_biden_audacity.wav</td>\n",
       "      <td>0.034836</td>\n",
       "      <td>0.004196</td>\n",
       "      <td>0.00616</td>\n",
       "      <td>8</td>\n",
       "      <td>5.421684e-07</td>\n",
       "      <td>0.133689</td>\n",
       "      <td>1</td>\n",
       "    </tr>\n",
       "  </tbody>\n",
       "</table>\n",
       "</div>"
      ],
      "text/plain": [
       "                                 file  pause_ratio  pause_mean  pause_std  \\\n",
       "0  test_biden/test_biden_audacity.wav     0.034836    0.004196    0.00616   \n",
       "\n",
       "   n_pauses     amp_deriv  amp_mean  fake  \n",
       "0         8  5.421684e-07  0.133689     1  "
      ]
     },
     "execution_count": 84,
     "metadata": {},
     "output_type": "execute_result"
    }
   ],
   "source": [
    "test_features"
   ]
  },
  {
   "cell_type": "code",
   "execution_count": 85,
   "id": "ccf02622-0506-4988-9ecd-fdda0dc6df8e",
   "metadata": {},
   "outputs": [
    {
     "data": {
      "text/plain": [
       "0.9020194465220643"
      ]
     },
     "execution_count": 85,
     "metadata": {},
     "output_type": "execute_result"
    }
   ],
   "source": [
    "from sklearn import svm\n",
    "X_train, X_test, y_train, y_test = train_test_split(features.iloc[:, 1:-1], features['fake'], test_size=0.25, random_state=0)\n",
    "\n",
    "scaler = MinMaxScaler()\n",
    "\n",
    "X_train_norm = scaler.fit_transform(X_train)\n",
    "X_test_norm = scaler.transform(X_test)\n",
    "\n",
    "clf = svm.SVC(C=1000, gamma=0.1, kernel='rbf')\n",
    "clf.fit(X_train_norm, y_train)\n",
    "clf.score(X_test_norm, y_test)"
   ]
  },
  {
   "cell_type": "code",
   "execution_count": 86,
   "id": "88e153ba-70ab-4add-a775-60965c361f61",
   "metadata": {},
   "outputs": [
    {
     "name": "stdout",
     "output_type": "stream",
     "text": [
      "   pause_ratio  pause_mean  pause_std  n_pauses     amp_deriv  amp_mean\n",
      "0     0.034836    0.004196    0.00616         8  5.421684e-07  0.133689\n",
      "0    1\n",
      "Name: fake, dtype: int64\n",
      "[[0.02884095 0.06504496 0.07353143 0.04117647 0.04992784 0.6368496 ]]\n"
     ]
    }
   ],
   "source": [
    "X_new = test_features.iloc[:, 1:-1]\n",
    "y_new = test_features['fake']\n",
    "print(X_new)\n",
    "print(y_new)\n",
    "\n",
    "X_new_norm = scaler.transform(X_new)\n",
    "print(X_new_norm)"
   ]
  },
  {
   "cell_type": "code",
   "execution_count": 87,
   "id": "dae84685-ffdb-40f7-8aa5-e30bb10dcd30",
   "metadata": {},
   "outputs": [],
   "source": [
    "y_predicted_wild = clf.predict(X_new_norm)"
   ]
  },
  {
   "cell_type": "code",
   "execution_count": 88,
   "id": "539aae97-53d5-4184-b8b4-03529f5349fc",
   "metadata": {},
   "outputs": [
    {
     "data": {
      "text/plain": [
       "array([1.])"
      ]
     },
     "execution_count": 88,
     "metadata": {},
     "output_type": "execute_result"
    }
   ],
   "source": [
    "y_predicted_wild"
   ]
  }
 ],
 "metadata": {
  "kernelspec": {
   "display_name": "cadence-modelling",
   "language": "python",
   "name": "cadence-modelling"
  },
  "language_info": {
   "codemirror_mode": {
    "name": "ipython",
    "version": 3
   },
   "file_extension": ".py",
   "mimetype": "text/x-python",
   "name": "python",
   "nbconvert_exporter": "python",
   "pygments_lexer": "ipython3",
   "version": "3.8.10"
  }
 },
 "nbformat": 4,
 "nbformat_minor": 5
}
