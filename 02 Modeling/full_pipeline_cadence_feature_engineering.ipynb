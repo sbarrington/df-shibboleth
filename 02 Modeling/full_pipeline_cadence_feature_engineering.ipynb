{
 "cells": [
  {
   "cell_type": "markdown",
   "id": "f1a6f3e0-feb0-4fcd-a86d-f31ead317161",
   "metadata": {},
   "source": [
    "# Cadence Feature Extraction Pipeline"
   ]
  },
  {
   "cell_type": "markdown",
   "id": "c16db8d4-5505-495d-ab7f-c002ac82c32d",
   "metadata": {},
   "source": [
    "# Packages and Config"
   ]
  },
  {
   "cell_type": "code",
   "execution_count": 2,
   "id": "2d203a45-1801-44e6-8ffe-7b02c6818fe0",
   "metadata": {},
   "outputs": [
    {
     "name": "stdout",
     "output_type": "stream",
     "text": [
      "WD: /home/ubuntu/testing-code/cadence-modellling\n"
     ]
    }
   ],
   "source": [
    "import sys\n",
    "import random\n",
    "import pandas as pd\n",
    "import os\n",
    "import pathlib\n",
    "import yaml\n",
    "import disvoice\n",
    "import librosa \n",
    "import numpy as np\n",
    "import soundfile as sf\n",
    "import matplotlib.pyplot as plt\n",
    "import scipy.stats as stats\n",
    "\n",
    "from pydub import AudioSegment, silence\n",
    "from pydub.playback import play\n",
    "\n",
    "# Configure display and plotting options\n",
    "pd.set_option('display.max_rows', None)\n",
    "font = {'family' : 'normal',\n",
    "        'weight' : 'normal',\n",
    "        'size'   : 12}\n",
    "plt.rc('font', **font)\n",
    "\n",
    "# Set WD\n",
    "try:\n",
    "    os.chdir('cadence_modelling/')\n",
    "except:\n",
    "    print(f'WD: {os.getcwd()}')\n",
    "\n",
    "# Import configs\n",
    "with open('/home/ubuntu/configs/config.yaml', 'r') as file:\n",
    "    inputs = yaml.safe_load(file)"
   ]
  },
  {
   "cell_type": "markdown",
   "id": "705e8ac5-c0b6-48d6-b4ec-2b3dab64645d",
   "metadata": {},
   "source": [
    "# Ingestion of files"
   ]
  },
  {
   "cell_type": "code",
   "execution_count": 93,
   "id": "deaa7549-abbc-464c-b6e9-eaea847e1c47",
   "metadata": {},
   "outputs": [
    {
     "data": {
      "text/plain": [
       "11457"
      ]
     },
     "execution_count": 93,
     "metadata": {},
     "output_type": "execute_result"
    }
   ],
   "source": [
    "len(all_wav_files)"
   ]
  },
  {
   "cell_type": "code",
   "execution_count": 131,
   "id": "5e2050b3-e7bc-4112-8356-5500935042fe",
   "metadata": {},
   "outputs": [],
   "source": [
    "# Begin with list of files; here we use an example template while we await the full class ouput\n",
    "def extract_input_files(data_input_path):\n",
    "\n",
    "    all_wav_files = pathlib.Path(data_input_path)\n",
    "    all_wav_files = list(all_wav_files.rglob(\"*.wav\")) + list(all_wav_files.rglob(\"*.WAV\"))\n",
    "    all_wav_files = [str(file) for file in all_wav_files]\n",
    "\n",
    "    #real_resampled_wav_files = [file for file in all_wav_files if 'TIMIT converted' in file]\n",
    "    #fake_resampled_wav_files = [file for file in all_wav_files if not 'TIMIT converted' in file]\n",
    "\n",
    "    flags = [1 if 'TIMIT converted' in str(item) else 0 for item in all_wav_files]\n",
    "    \n",
    "    return all_wav_files, flags #real_resampled_wav_files, fake_resampled_wav_files, flags\n",
    "\n",
    "all_wav_files, flags = extract_input_files('../../data/TIMIT-fake')"
   ]
  },
  {
   "cell_type": "markdown",
   "id": "20160d05-146e-4e75-bbf3-e3c707cc1bde",
   "metadata": {},
   "source": [
    "# 1. Set thresholds"
   ]
  },
  {
   "cell_type": "code",
   "execution_count": 94,
   "id": "e6e11d12-f6b0-465d-a258-5138d5ba1b3f",
   "metadata": {},
   "outputs": [],
   "source": [
    "silence_threshold = 0.005 # 0.5 percent (0.005), from '0_cadence_modelling.ipynb'. Previously we used 0.2% in the truncation step.\n",
    "low_pass_filter_cutoff = 10 # from '1_cadence_LJ.ipynb'"
   ]
  },
  {
   "cell_type": "markdown",
   "id": "4cb39c8e-16d0-4d68-9fbe-6095f674513d",
   "metadata": {},
   "source": [
    "# 2. Normalise amplitudes"
   ]
  },
  {
   "cell_type": "code",
   "execution_count": 34,
   "id": "9b2ce47d-a0a2-43da-9993-40670eaf68da",
   "metadata": {},
   "outputs": [],
   "source": [
    "def normalize_audio_amplitudes(all_wav_files):\n",
    "    normalized_audios = []\n",
    "    \n",
    "    for file in all_wav_files:\n",
    "        sample = librosa.load(file)[0]\n",
    "        max_abs = np.max(np.abs(sample))\n",
    "        normalized_sample = sample/max_abs\n",
    "        normalized_audios.append(normalized_sample)\n",
    "        \n",
    "    return normalized_audios"
   ]
  },
  {
   "cell_type": "code",
   "execution_count": 35,
   "id": "261e6101-0e80-4202-a8e3-cf980e18f64a",
   "metadata": {},
   "outputs": [
    {
     "data": {
      "image/png": "[encoded data removed]",
      "text/plain": [
       "<Figure size 432x288 with 1 Axes>"
      ]
     },
     "metadata": {
      "needs_background": "light"
     },
     "output_type": "display_data"
    }
   ],
   "source": [
    "normalized_audios = normalize_audio_amplitudes(all_wav_files)\n",
    "\n",
    "# Perform check\n",
    "i = 0\n",
    "plt.grid()\n",
    "plt.plot(np.arange(len(normalized_audios[i])), normalized_audios[i])\n",
    "plt.title(f\"\")\n",
    "plt.show()"
   ]
  },
  {
   "cell_type": "markdown",
   "id": "1c6445f7-4256-48c6-bc2f-a26c22de70fc",
   "metadata": {},
   "source": [
    "# 3. Truncate silences at start and end of clip"
   ]
  },
  {
   "cell_type": "code",
   "execution_count": 64,
   "id": "ee95fcc2-1d09-4dbd-a610-f9834c193f31",
   "metadata": {},
   "outputs": [],
   "source": [
    "def truncate_silences(normalized_audios, silence_threshold, window_size=100):\n",
    "    truncated_audios = []\n",
    "    start_ids = []\n",
    "    end_ids = []\n",
    "    \n",
    "    for audio in normalized_audios:\n",
    "        for j in range(len(audio)):\n",
    "            roll_average = np.mean(np.abs(audio[j:j+window_size]))\n",
    "            if roll_average > silence_threshold:\n",
    "                truncation_id_start = j\n",
    "                break\n",
    "\n",
    "        for j in reversed(range(len(audio))):\n",
    "            roll_average = np.mean(np.abs(audio[j-window_size:j]))\n",
    "            if roll_average > silence_threshold:\n",
    "                truncation_id_end = j-window_size\n",
    "                break\n",
    "        truncated_audios.append(audio[truncation_id_start:truncation_id_end])\n",
    "        start_ids.append(truncation_id_start)\n",
    "        end_ids.append(truncation_id_end)\n",
    "    \n",
    "    return truncated_audios, start_ids, end_ids"
   ]
  },
  {
   "cell_type": "code",
   "execution_count": 97,
   "id": "5781b533-abd0-4ec4-84bd-79680d38dfe7",
   "metadata": {},
   "outputs": [
    {
     "ename": "KeyboardInterrupt",
     "evalue": "",
     "output_type": "error",
     "traceback": [
      "\u001b[0;31m---------------------------------------------------------------------------\u001b[0m",
      "\u001b[0;31mKeyboardInterrupt\u001b[0m                         Traceback (most recent call last)",
      "\u001b[0;32m<ipython-input-97-b9c9d091631c>\u001b[0m in \u001b[0;36m<module>\u001b[0;34m\u001b[0m\n\u001b[0;32m----> 1\u001b[0;31m \u001b[0mtruncated_audios\u001b[0m\u001b[0;34m,\u001b[0m \u001b[0mstart_ids\u001b[0m\u001b[0;34m,\u001b[0m \u001b[0mend_ids\u001b[0m \u001b[0;34m=\u001b[0m \u001b[0mtruncate_silences\u001b[0m\u001b[0;34m(\u001b[0m\u001b[0mnormalized_audios\u001b[0m\u001b[0;34m,\u001b[0m \u001b[0msilence_threshold\u001b[0m\u001b[0;34m,\u001b[0m \u001b[0mwindow_size\u001b[0m\u001b[0;34m=\u001b[0m\u001b[0;36m100\u001b[0m\u001b[0;34m)\u001b[0m\u001b[0;34m\u001b[0m\u001b[0;34m\u001b[0m\u001b[0m\n\u001b[0m\u001b[1;32m      2\u001b[0m \u001b[0;34m\u001b[0m\u001b[0m\n\u001b[1;32m      3\u001b[0m \u001b[0;31m# Test\u001b[0m\u001b[0;34m\u001b[0m\u001b[0;34m\u001b[0m\u001b[0;34m\u001b[0m\u001b[0m\n\u001b[1;32m      4\u001b[0m \u001b[0mj\u001b[0m \u001b[0;34m=\u001b[0m \u001b[0;36m9770\u001b[0m\u001b[0;34m\u001b[0m\u001b[0;34m\u001b[0m\u001b[0m\n\u001b[1;32m      5\u001b[0m \u001b[0mi\u001b[0m \u001b[0;34m=\u001b[0m \u001b[0;36m9782\u001b[0m\u001b[0;34m\u001b[0m\u001b[0;34m\u001b[0m\u001b[0m\n",
      "\u001b[0;32m<ipython-input-64-787b5f10a4a3>\u001b[0m in \u001b[0;36mtruncate_silences\u001b[0;34m(normalized_audios, silence_threshold, window_size)\u001b[0m\n\u001b[1;32m      7\u001b[0m         \u001b[0;32mfor\u001b[0m \u001b[0mj\u001b[0m \u001b[0;32min\u001b[0m \u001b[0mrange\u001b[0m\u001b[0;34m(\u001b[0m\u001b[0mlen\u001b[0m\u001b[0;34m(\u001b[0m\u001b[0maudio\u001b[0m\u001b[0;34m)\u001b[0m\u001b[0;34m)\u001b[0m\u001b[0;34m:\u001b[0m\u001b[0;34m\u001b[0m\u001b[0;34m\u001b[0m\u001b[0m\n\u001b[1;32m      8\u001b[0m             \u001b[0mroll_average\u001b[0m \u001b[0;34m=\u001b[0m \u001b[0mnp\u001b[0m\u001b[0;34m.\u001b[0m\u001b[0mmean\u001b[0m\u001b[0;34m(\u001b[0m\u001b[0mnp\u001b[0m\u001b[0;34m.\u001b[0m\u001b[0mabs\u001b[0m\u001b[0;34m(\u001b[0m\u001b[0maudio\u001b[0m\u001b[0;34m[\u001b[0m\u001b[0mj\u001b[0m\u001b[0;34m:\u001b[0m\u001b[0mj\u001b[0m\u001b[0;34m+\u001b[0m\u001b[0mwindow_size\u001b[0m\u001b[0;34m]\u001b[0m\u001b[0;34m)\u001b[0m\u001b[0;34m)\u001b[0m\u001b[0;34m\u001b[0m\u001b[0;34m\u001b[0m\u001b[0m\n\u001b[0;32m----> 9\u001b[0;31m             \u001b[0;32mif\u001b[0m \u001b[0mroll_average\u001b[0m \u001b[0;34m>\u001b[0m \u001b[0msilence_threshold\u001b[0m\u001b[0;34m:\u001b[0m\u001b[0;34m\u001b[0m\u001b[0;34m\u001b[0m\u001b[0m\n\u001b[0m\u001b[1;32m     10\u001b[0m                 \u001b[0mtruncation_id_start\u001b[0m \u001b[0;34m=\u001b[0m \u001b[0mj\u001b[0m\u001b[0;34m\u001b[0m\u001b[0;34m\u001b[0m\u001b[0m\n\u001b[1;32m     11\u001b[0m                 \u001b[0;32mbreak\u001b[0m\u001b[0;34m\u001b[0m\u001b[0;34m\u001b[0m\u001b[0m\n",
      "\u001b[0;31mKeyboardInterrupt\u001b[0m: "
     ]
    }
   ],
   "source": [
    "truncated_audios, start_ids, end_ids = truncate_silences(normalized_audios, silence_threshold, window_size=100)\n",
    "\n",
    "# Test\n",
    "j = 9770\n",
    "i = 9782\n",
    "\n",
    "for item in np.arange(j, i):\n",
    "    print(item)\n",
    "    plt.grid()\n",
    "    plt.plot(np.arange(len(normalized_audios[item])), normalized_audios[item])\n",
    "    plt.title(f\"\")\n",
    "    plt.axvline(x=start_ids[item], color='r', linestyle='-')\n",
    "    plt.axvline(x=end_ids[item], color='r', linestyle='-')\n",
    "    plt.plot(np.arange(len(truncated_audios[item])), truncated_audios[item])\n",
    "    plt.show()"
   ]
  },
  {
   "cell_type": "markdown",
   "id": "4b4d7cc6-ea10-40dc-bb8d-01c36b4fe4f2",
   "metadata": {},
   "source": [
    "# 4. Features: Pause Extraction"
   ]
  },
  {
   "cell_type": "code",
   "execution_count": null,
   "id": "2caef026-4212-4200-9dc1-854c67e7bf53",
   "metadata": {},
   "outputs": [],
   "source": [
    "def moving_average(x, w):\n",
    "    return np.convolve(x, np.ones(w), 'valid') / w\n",
    "\n",
    "def get_silence(audio, percent):\n",
    "    thresh = max(abs(audio))*percent\n",
    "    \n",
    "    moving_avg = moving_average(abs(audio), 100)\n",
    "\n",
    "    silent = np.where(abs(moving_avg) < thresh)\n",
    "    voiced = np.where(abs(moving_avg) >= thresh)\n",
    "    \n",
    "    pct_pause = len(silent[0])*100/(len(silent[0])+len(voiced[0]))\n",
    "    pct_voiced = len(voiced[0])*100/(len(silent[0])+len(voiced[0]))\n",
    "    ratio_pause_voiced = len(silent[0])/len(voiced[0]) \n",
    "\n",
    "    return pct_pause, pct_voiced, ratio_pause_voiced\n",
    "\n",
    "def get_silence_spread(audio, percent):\n",
    "\n",
    "    thresh = max(abs(audio))*percent\n",
    "    \n",
    "    moving_avg = moving_average(abs(audio), 100)\n",
    "\n",
    "    silent_windows = np.where(moving_avg < thresh)\n",
    "    moving_avg[silent_windows] = 0\n",
    "    silence_count = 0\n",
    "    silence_counts = []\n",
    "    \n",
    "    for i in range(len(moving_avg)-1):\n",
    "        item = moving_avg[i]\n",
    "        next_item = moving_avg[i+1]\n",
    "        \n",
    "        if item != 0 and next_item == 0:\n",
    "            silence_count = 0\n",
    "            \n",
    "        elif item == 0 and next_item == 0:\n",
    "            silence_count += 1\n",
    "            \n",
    "        elif item == 0 and next_item != 0:\n",
    "            silence_counts.append(silence_count)\n",
    "        \n",
    "        else:\n",
    "            continue  \n",
    "    \n",
    "    # Get spreads/means and normalise\n",
    "    spread_of_silences = np.std(silence_counts)/len(moving_avg)\n",
    "    mean_of_silences = np.mean(silence_counts)/len(moving_avg)\n",
    "    n_pauses = len(silence_counts)\n",
    "        \n",
    "    return spread_of_silences, mean_of_silences, silence_counts, n_pauses\n",
    "    "
   ]
  },
  {
   "cell_type": "markdown",
   "id": "b49e9b87-4113-495c-b59b-a44b23afd03e",
   "metadata": {},
   "source": [
    "# Balance data"
   ]
  },
  {
   "cell_type": "code",
   "execution_count": 136,
   "id": "0c0728c5-76a5-44dd-8aac-5190da0b1818",
   "metadata": {},
   "outputs": [],
   "source": [
    "def balance_data(all_wav_files):\n",
    "    \n",
    "    folders = set([all_wav_files[i].split('_')[-1].split('.')[0] for i in range(len(all_wav_files))])\n",
    "    \n",
    "    real_resampled_wav_files = [file for file in all_wav_files if 'TIMIT converted' in file]\n",
    "    fake_resampled_wav_files = [file for file in all_wav_files if not 'TIMIT converted' in file]\n",
    "    \n",
    "    # Ensure we take the same number of each phrase for real and fake, downsample the fake files \n",
    "    balanced_real_resampled_wav_files = []\n",
    "    balanced_fake_resampled_wav_files = []\n",
    "    \n",
    "    for folder in folders:\n",
    "        real_examples = [file for file in real_resampled_wav_files if f'_{folder}.' in file]\n",
    "        fake_examples = [file for file in fake_resampled_wav_files if f'_{folder}.' in file]\n",
    "\n",
    "        if len(real_examples) > len(fake_examples):\n",
    "            real_examples = random.sample(real_examples, len(fake_examples))\n",
    "        else:\n",
    "            fake_examples = random.sample(fake_examples, len(real_examples))\n",
    "\n",
    "        [balanced_real_resampled_wav_files.append(file) for file in real_examples]\n",
    "        [balanced_fake_resampled_wav_files.append(file) for file in fake_examples]\n",
    "    \n",
    "    rebalanced_wav_files = balanced_real_resampled_wav_files + balanced_fake_resampled_wav_files\n",
    "    \n",
    "    return rebalanced_wav_files\n",
    "\n",
    "rebalanced_wav_files = balance_data(all_wav_files)\n",
    "\n",
    "# Quick test\n",
    "#print(len(balanced_real_resampled_wav_files), len(balanced_fake_resampled_wav_files))\n",
    "\n",
    "#folders = set([real_resampled_wav_files[i].split('_')[-1].split('.')[0] for i in range(len(real_resampled_wav_files))])\n",
    "\n",
    "#for folder in folders:\n",
    "#    real_fols = [item for item in balanced_real_resampled_wav_files if item.lower().endswith(f'{folder.lower()}.wav')]\n",
    "#    fake_fols = [item for item in balanced_fake_resampled_wav_files if item.lower().endswith(f'{folder.lower()}.wav')]\n",
    "#    if len(real_fols) != len(fake_fols):\n",
    "#           print(len(real_fols), len(fake_fols))"
   ]
  },
  {
   "cell_type": "code",
   "execution_count": null,
   "id": "0c1a36db-64d3-49e6-908f-e2a104177d04",
   "metadata": {},
   "outputs": [],
   "source": [
    "def run_all_files(balanced_real_resampled_wav_files, balanced_fake_resampled_wav_files, function):\n",
    "    # Instantiate results - r=real, f=fake\n",
    "    r1s = []\n",
    "    f1s = []\n",
    "\n",
    "    real_files = []\n",
    "    fake_files = []\n",
    "\n",
    "    for item in real_examples:\n",
    "        r1, r2, r3 = function(librosa.load(item)[0], percent)\n",
    "        r1s.append(r1)\n",
    "\n",
    "    for item in fake_examples:\n",
    "        f1, f2, f3 = function(librosa.load(item)[0], percent\n",
    "        f1s.append(f1)\n",
    "    \n",
    "    return r1s, f1s"
   ]
  },
  {
   "cell_type": "markdown",
   "id": "ac85f98f-f0a7-4994-9372-85416d3da40d",
   "metadata": {},
   "source": [
    "# Run full pipeline within sincle function"
   ]
  },
  {
   "cell_type": "code",
   "execution_count": null,
   "id": "27581631-ca43-4a96-959c-bb8f4f78185b",
   "metadata": {},
   "outputs": [],
   "source": [
    "def run_cadence_feature_extraction_pipeline(data_input_path = '../../data/TIMIT-fake', silence_threshold = 0.005, low_pass_filter_cutoff = 10):\n",
    "    \n",
    "    ## PREPROCESS\n",
    "    # Extract input files\n",
    "    all_wav_files, flags = extract_input_files(data_input_path)\n",
    "    \n",
    "    # Balance data\n",
    "    rebalanced_wav_files = balance_data(all_wav_files)\n",
    "    \n",
    "    # Normalise amplitudes\n",
    "    normalized_audios = normalize_audio_amplitudes(all_wav_files)\n",
    "    \n",
    "    # Truncate silences\n",
    "    truncated_audios, start_ids, end_ids = truncate_silences(normalized_audios, silence_threshold, window_size=100)\n",
    "    \n",
    "    ## FEATURE ENGINEERING\n",
    "    #\n",
    "    \n",
    "    "
   ]
  },
  {
   "cell_type": "code",
   "execution_count": null,
   "id": "59a2325e-df74-4ff2-9455-097f70b35c52",
   "metadata": {},
   "outputs": [],
   "source": []
  },
  {
   "cell_type": "code",
   "execution_count": null,
   "id": "b986e74b-09e4-4be1-b83b-77b39ba23dce",
   "metadata": {},
   "outputs": [],
   "source": []
  },
  {
   "cell_type": "markdown",
   "id": "bd47f490-126a-412e-adfb-de16b0d28432",
   "metadata": {},
   "source": [
    "# X. Test on timit non-processed to see if same results arise"
   ]
  },
  {
   "cell_type": "code",
   "execution_count": null,
   "id": "7c0b43a9-8f6f-4a22-b041-a4e8254d8548",
   "metadata": {},
   "outputs": [],
   "source": []
  }
 ],
 "metadata": {
  "kernelspec": {
   "display_name": "cadence-modelling",
   "language": "python",
   "name": "cadence-modelling"
  },
  "language_info": {
   "codemirror_mode": {
    "name": "ipython",
    "version": 3
   },
   "file_extension": ".py",
   "mimetype": "text/x-python",
   "name": "python",
   "nbconvert_exporter": "python",
   "pygments_lexer": "ipython3",
   "version": "3.8.10"
  }
 },
 "nbformat": 4,
 "nbformat_minor": 5
}
