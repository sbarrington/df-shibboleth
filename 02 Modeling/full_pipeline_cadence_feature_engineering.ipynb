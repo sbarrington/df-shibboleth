{
 "cells": [
  {
   "cell_type": "markdown",
   "id": "f1a6f3e0-feb0-4fcd-a86d-f31ead317161",
   "metadata": {},
   "source": [
    "# Cadence Feature Extraction Pipeline"
   ]
  },
  {
   "cell_type": "markdown",
   "id": "c16db8d4-5505-495d-ab7f-c002ac82c32d",
   "metadata": {},
   "source": [
    "# Packages and Config"
   ]
  },
  {
   "cell_type": "code",
   "execution_count": 137,
   "id": "2d203a45-1801-44e6-8ffe-7b02c6818fe0",
   "metadata": {},
   "outputs": [
    {
     "name": "stdout",
     "output_type": "stream",
     "text": [
      "WD: /home/ubuntu/testing-code/cadence-modellling\n"
     ]
    }
   ],
   "source": [
    "import sys\n",
    "import random\n",
    "import pandas as pd\n",
    "import os\n",
    "import pathlib\n",
    "import yaml\n",
    "import disvoice\n",
    "import librosa \n",
    "import numpy as np\n",
    "import soundfile as sf\n",
    "import matplotlib.pyplot as plt\n",
    "import scipy.stats as stats\n",
    "\n",
    "from pydub import AudioSegment, silence\n",
    "from pydub.playback import play\n",
    "\n",
    "# Configure display and plotting options\n",
    "pd.set_option('display.max_rows', None)\n",
    "font = {'family' : 'normal',\n",
    "        'weight' : 'normal',\n",
    "        'size'   : 12}\n",
    "plt.rc('font', **font)\n",
    "\n",
    "# Set WD\n",
    "try:\n",
    "    os.chdir('cadence_modelling/')\n",
    "except:\n",
    "    print(f'WD: {os.getcwd()}')\n",
    "\n",
    "# Import configs\n",
    "with open('/home/ubuntu/configs/config.yaml', 'r') as file:\n",
    "    inputs = yaml.safe_load(file)"
   ]
  },
  {
   "cell_type": "markdown",
   "id": "705e8ac5-c0b6-48d6-b4ec-2b3dab64645d",
   "metadata": {},
   "source": [
    "# Ingestion of files"
   ]
  },
  {
   "cell_type": "code",
   "execution_count": 138,
   "id": "5e2050b3-e7bc-4112-8356-5500935042fe",
   "metadata": {},
   "outputs": [],
   "source": [
    "# Begin with list of files; here we use an example template while we await the full class ouput\n",
    "def extract_input_files(data_input_path):\n",
    "\n",
    "    all_wav_files = pathlib.Path(data_input_path)\n",
    "    all_wav_files = list(all_wav_files.rglob(\"*.wav\")) + list(all_wav_files.rglob(\"*.WAV\"))\n",
    "    all_wav_files = [str(file) for file in all_wav_files]\n",
    "\n",
    "    #real_resampled_wav_files = [file for file in all_wav_files if 'TIMIT converted' in file]\n",
    "    #fake_resampled_wav_files = [file for file in all_wav_files if not 'TIMIT converted' in file]\n",
    "\n",
    "    flags = [1 if 'TIMIT converted' in str(item) else 0 for item in all_wav_files]\n",
    "    \n",
    "    return all_wav_files, flags #real_resampled_wav_files, fake_resampled_wav_files, flags\n",
    "\n",
    "all_wav_files, flags = extract_input_files('../../data/TIMIT-fake')"
   ]
  },
  {
   "cell_type": "markdown",
   "id": "20160d05-146e-4e75-bbf3-e3c707cc1bde",
   "metadata": {},
   "source": [
    "# 1. Set thresholds"
   ]
  },
  {
   "cell_type": "code",
   "execution_count": 139,
   "id": "e6e11d12-f6b0-465d-a258-5138d5ba1b3f",
   "metadata": {},
   "outputs": [],
   "source": [
    "silence_threshold = 0.005 # 0.5 percent (0.005), from '0_cadence_modelling.ipynb'. Previously we used 0.2% in the truncation step.\n",
    "low_pass_filter_cutoff = 10 # from '1_cadence_LJ.ipynb'"
   ]
  },
  {
   "cell_type": "markdown",
   "id": "b49e9b87-4113-495c-b59b-a44b23afd03e",
   "metadata": {},
   "source": [
    "# Balance data"
   ]
  },
  {
   "cell_type": "code",
   "execution_count": 197,
   "id": "0c0728c5-76a5-44dd-8aac-5190da0b1818",
   "metadata": {},
   "outputs": [],
   "source": [
    "# NEED TO CHECK THIS - does it do it by architecture?\n",
    "def balance_data(all_wav_files):\n",
    "    \n",
    "    folders = set([all_wav_files[i].split('_')[-1].split('.')[0] for i in range(len(all_wav_files))])\n",
    "    \n",
    "    real_resampled_wav_files = [file for file in all_wav_files if 'TIMIT converted' in file]\n",
    "    fake_resampled_wav_files = [file for file in all_wav_files if not 'TIMIT converted' in file]\n",
    "    \n",
    "    # Ensure we take the same number of each phrase for real and fake, downsample the fake files \n",
    "    balanced_real_resampled_wav_files = []\n",
    "    balanced_fake_resampled_wav_files = []\n",
    "    \n",
    "    for folder in folders:\n",
    "        real_examples = [file for file in real_resampled_wav_files if f'_{folder}.' in file]\n",
    "        fake_examples = [file for file in fake_resampled_wav_files if f'_{folder}.' in file]\n",
    "\n",
    "        if len(real_examples) > len(fake_examples):\n",
    "            real_examples = random.sample(real_examples, len(fake_examples))\n",
    "        else:\n",
    "            fake_examples = random.sample(fake_examples, len(real_examples))\n",
    "\n",
    "        [balanced_real_resampled_wav_files.append(file) for file in real_examples]\n",
    "        [balanced_fake_resampled_wav_files.append(file) for file in fake_examples]\n",
    "    \n",
    "    rebalanced_wav_files = balanced_real_resampled_wav_files + balanced_fake_resampled_wav_files\n",
    "    rebalanced_flags = [i for i in np.zeros(len(balanced_real_resampled_wav_files))] + [i for i in np.ones(len(balanced_fake_resampled_wav_files))] \n",
    "    \n",
    "    return rebalanced_wav_files, rebalanced_flags\n",
    "\n",
    "rebalanced_wav_files, rebalanced_flags = balance_data(all_wav_files)\n",
    "\n",
    "# Quick test\n",
    "#print(len(balanced_real_resampled_wav_files), len(balanced_fake_resampled_wav_files))\n",
    "\n",
    "#folders = set([real_resampled_wav_files[i].split('_')[-1].split('.')[0] for i in range(len(real_resampled_wav_files))])\n",
    "\n",
    "#for folder in folders:\n",
    "#    real_fols = [item for item in balanced_real_resampled_wav_files if item.lower().endswith(f'{folder.lower()}.wav')]\n",
    "#    fake_fols = [item for item in balanced_fake_resampled_wav_files if item.lower().endswith(f'{folder.lower()}.wav')]\n",
    "#    if len(real_fols) != len(fake_fols):\n",
    "#           print(len(real_fols), len(fake_fols))"
   ]
  },
  {
   "cell_type": "markdown",
   "id": "4cb39c8e-16d0-4d68-9fbe-6095f674513d",
   "metadata": {},
   "source": [
    "# 2. Normalise amplitudes"
   ]
  },
  {
   "cell_type": "code",
   "execution_count": 140,
   "id": "9b2ce47d-a0a2-43da-9993-40670eaf68da",
   "metadata": {},
   "outputs": [],
   "source": [
    "def normalize_audio_amplitudes(all_wav_files):\n",
    "    normalized_audios = []\n",
    "    \n",
    "    for file in all_wav_files:\n",
    "        sample = librosa.load(file)[0]\n",
    "        max_abs = np.max(np.abs(sample))\n",
    "        normalized_sample = sample/max_abs\n",
    "        normalized_audios.append(normalized_sample)\n",
    "        \n",
    "    return normalized_audios"
   ]
  },
  {
   "cell_type": "code",
   "execution_count": 141,
   "id": "261e6101-0e80-4202-a8e3-cf980e18f64a",
   "metadata": {},
   "outputs": [
    {
     "name": "stderr",
     "output_type": "stream",
     "text": [
      "findfont: Font family ['normal'] not found. Falling back to DejaVu Sans.\n"
     ]
    },
    {
     "data": {
      "image/png": "[encoded data removed]",
      "text/plain": [
       "<Figure size 432x288 with 1 Axes>"
      ]
     },
     "metadata": {
      "needs_background": "light"
     },
     "output_type": "display_data"
    }
   ],
   "source": [
    "normalized_audios = normalize_audio_amplitudes(all_wav_files)\n",
    "\n",
    "# Perform check\n",
    "i = 0\n",
    "plt.grid()\n",
    "plt.plot(np.arange(len(normalized_audios[i])), normalized_audios[i])\n",
    "plt.title(f\"\")\n",
    "plt.show()"
   ]
  },
  {
   "cell_type": "markdown",
   "id": "1c6445f7-4256-48c6-bc2f-a26c22de70fc",
   "metadata": {},
   "source": [
    "# 3. Truncate silences at start and end of clip"
   ]
  },
  {
   "cell_type": "code",
   "execution_count": 171,
   "id": "ee95fcc2-1d09-4dbd-a610-f9834c193f31",
   "metadata": {},
   "outputs": [],
   "source": [
    "def truncate_silences(normalized_audios, silence_threshold, window_size=100, counter=0):\n",
    "    truncated_audios = []\n",
    "    start_ids = []\n",
    "    end_ids = []\n",
    "    \n",
    "    for audio in normalized_audios:\n",
    "        counter += 1\n",
    "        if counter % 100 == 0:\n",
    "            print(f'Truncating audio {counter}/{len(normalized_audios)} ({round(counter*100/len(normalized_audios))}%)')\n",
    "\n",
    "        for j in range(len(audio)):\n",
    "            roll_average = np.mean(np.abs(audio[j:j+window_size]))\n",
    "            if roll_average > silence_threshold:\n",
    "                truncation_id_start = j\n",
    "                break\n",
    "\n",
    "        for j in reversed(range(len(audio))):\n",
    "            roll_average = np.mean(np.abs(audio[j-window_size:j]))\n",
    "            if roll_average > silence_threshold:\n",
    "                truncation_id_end = j-window_size\n",
    "                break\n",
    "        truncated_audios.append(audio[truncation_id_start:truncation_id_end])\n",
    "        start_ids.append(truncation_id_start)\n",
    "        end_ids.append(truncation_id_end)\n",
    "    \n",
    "    return truncated_audios, start_ids, end_ids\n",
    "\n",
    "#truncated_audios, start_ids, end_ids = truncate_silences(normalized_audios, silence_threshold, window_size=100)"
   ]
  },
  {
   "cell_type": "code",
   "execution_count": 170,
   "id": "c92dd85c-eeef-436e-94bd-ffe0c42f706b",
   "metadata": {},
   "outputs": [],
   "source": [
    "# Test\n",
    "#j = 9770\n",
    "#i = 9782\n",
    "\n",
    "#for item in np.arange(j, i):\n",
    "#    print(item)\n",
    "#    plt.grid()\n",
    "#    plt.plot(np.arange(len(normalized_audios[item])), normalized_audios[item])\n",
    "#    plt.title(f\"\")\n",
    "#    plt.axvline(x=start_ids[item], color='r', linestyle='-')\n",
    "#    plt.axvline(x=end_ids[item], color='r', linestyle='-')\n",
    "#    plt.plot(np.arange(len(truncated_audios[item])), truncated_audios[item])\n",
    "#    plt.show()"
   ]
  },
  {
   "cell_type": "markdown",
   "id": "4b4d7cc6-ea10-40dc-bb8d-01c36b4fe4f2",
   "metadata": {},
   "source": [
    "# 4. Features: Pause Extraction"
   ]
  },
  {
   "cell_type": "code",
   "execution_count": 175,
   "id": "2caef026-4212-4200-9dc1-854c67e7bf53",
   "metadata": {},
   "outputs": [],
   "source": [
    "def moving_average(x, w):\n",
    "    return np.convolve(x, np.ones(w), 'valid') / w\n",
    "\n",
    "def get_silence(audio, percent):\n",
    "    thresh = max(abs(audio))*percent\n",
    "    \n",
    "    moving_avg = moving_average(abs(audio), 100)\n",
    "\n",
    "    silent = np.where(abs(moving_avg) < thresh)\n",
    "    voiced = np.where(abs(moving_avg) >= thresh)\n",
    "    \n",
    "    pct_pause = len(silent[0])*100/(len(silent[0])+len(voiced[0]))\n",
    "    pct_voiced = len(voiced[0])*100/(len(silent[0])+len(voiced[0]))\n",
    "    ratio_pause_voiced = len(silent[0])/len(voiced[0]) \n",
    "\n",
    "    return {'pct_pause':pct_pause, 'pct_voiced': pct_voiced, 'ratio_pause_voiced': ratio_pause_voiced}\n",
    "\n",
    "def get_silence_spread(audio, percent):\n",
    "\n",
    "    thresh = max(abs(audio))*percent\n",
    "    \n",
    "    moving_avg = moving_average(abs(audio), 100)\n",
    "\n",
    "    silent_windows = np.where(moving_avg < thresh)\n",
    "    moving_avg[silent_windows] = 0\n",
    "    silence_count = 0\n",
    "    silence_counts = []\n",
    "    \n",
    "    for i in range(len(moving_avg)-1):\n",
    "        item = moving_avg[i]\n",
    "        next_item = moving_avg[i+1]\n",
    "        \n",
    "        if item != 0 and next_item == 0:\n",
    "            silence_count = 0\n",
    "            \n",
    "        elif item == 0 and next_item == 0:\n",
    "            silence_count += 1\n",
    "            \n",
    "        elif item == 0 and next_item != 0:\n",
    "            silence_counts.append(silence_count)\n",
    "        \n",
    "        else:\n",
    "            continue  \n",
    "    \n",
    "    # Get spreads/means and normalise\n",
    "    spread_of_silences = np.std(silence_counts)/len(moving_avg)\n",
    "    mean_of_silences = np.mean(silence_counts)/len(moving_avg)\n",
    "    n_pauses = len(silence_counts)\n",
    "        \n",
    "    return {'spread_of_silences':spread_of_silences, 'mean_of_silences':mean_of_silences, 'silence_counts':silence_counts, 'n_pauses':n_pauses}\n",
    "\n",
    "\n",
    "    "
   ]
  },
  {
   "cell_type": "code",
   "execution_count": null,
   "id": "0c1a36db-64d3-49e6-908f-e2a104177d04",
   "metadata": {},
   "outputs": [
    {
     "name": "stdout",
     "output_type": "stream",
     "text": [
      "[0 0 0 ... 0 0 0]\n"
     ]
    }
   ],
   "source": [
    "def run_all_files(truncated_audios, flags, function, percent):\n",
    "    # Instantiate results - r=real, f=fake\n",
    "    r_results = []\n",
    "    f_results = []\n",
    "\n",
    "    real_indices = np.array([int(i) for i in flags if i == 0])\n",
    "    fake_indices = np.array([int(i) for i in flags if i != 0])\n",
    "    \n",
    "    real_examples = [truncated_audios[i] for i in real_indices]\n",
    "    fake_examples = [truncated_audios[i] for i in fake_indices]\n",
    "\n",
    "    for item in real_examples:\n",
    "        r_result = function(item, percent)\n",
    "        r_results.append(r_result)\n",
    "\n",
    "    for item in fake_examples:\n",
    "        f_result = function(item, percent)\n",
    "        f_results.append(f_result)\n",
    "    \n",
    "    return r_results, f_results\n",
    "\n",
    "r_results, f_results = run_all_files(truncated_audios, rebalanced_flags, get_silence, silence_threshold)"
   ]
  },
  {
   "cell_type": "markdown",
   "id": "ac85f98f-f0a7-4994-9372-85416d3da40d",
   "metadata": {},
   "source": [
    "# Run full pipeline within single function"
   ]
  },
  {
   "cell_type": "code",
   "execution_count": 164,
   "id": "27581631-ca43-4a96-959c-bb8f4f78185b",
   "metadata": {},
   "outputs": [
    {
     "name": "stdout",
     "output_type": "stream",
     "text": [
      "Extracting input files\n",
      "Balancing data\n",
      "Normalizing amplitudes\n",
      "Truncating silences\n",
      "Truncating audio 100/5384 (2%)\n",
      "Truncating audio 200/5384 (4%)\n",
      "Truncating audio 300/5384 (6%)\n",
      "Truncating audio 400/5384 (7%)\n",
      "Truncating audio 500/5384 (9%)\n",
      "Truncating audio 600/5384 (11%)\n",
      "Truncating audio 700/5384 (13%)\n",
      "Truncating audio 800/5384 (15%)\n",
      "Truncating audio 900/5384 (17%)\n",
      "Truncating audio 1000/5384 (19%)\n",
      "Truncating audio 1100/5384 (20%)\n",
      "Truncating audio 1200/5384 (22%)\n",
      "Truncating audio 1300/5384 (24%)\n",
      "Truncating audio 1400/5384 (26%)\n",
      "Truncating audio 1500/5384 (28%)\n",
      "Truncating audio 1600/5384 (30%)\n",
      "Truncating audio 1700/5384 (32%)\n",
      "Truncating audio 1800/5384 (33%)\n",
      "Truncating audio 1900/5384 (35%)\n",
      "Truncating audio 2000/5384 (37%)\n",
      "Truncating audio 2100/5384 (39%)\n",
      "Truncating audio 2200/5384 (41%)\n",
      "Truncating audio 2300/5384 (43%)\n",
      "Truncating audio 2400/5384 (45%)\n",
      "Truncating audio 2500/5384 (46%)\n",
      "Truncating audio 2600/5384 (48%)\n",
      "Truncating audio 2700/5384 (50%)\n",
      "Truncating audio 2800/5384 (52%)\n",
      "Truncating audio 2900/5384 (54%)\n",
      "Truncating audio 3000/5384 (56%)\n",
      "Truncating audio 3100/5384 (58%)\n",
      "Truncating audio 3200/5384 (59%)\n",
      "Truncating audio 3300/5384 (61%)\n",
      "Truncating audio 3400/5384 (63%)\n",
      "Truncating audio 3500/5384 (65%)\n",
      "Truncating audio 3600/5384 (67%)\n",
      "Truncating audio 3700/5384 (69%)\n",
      "Truncating audio 3800/5384 (71%)\n",
      "Truncating audio 3900/5384 (72%)\n",
      "Truncating audio 4000/5384 (74%)\n",
      "Truncating audio 4100/5384 (76%)\n",
      "Truncating audio 4200/5384 (78%)\n",
      "Truncating audio 4300/5384 (80%)\n",
      "Truncating audio 4400/5384 (82%)\n",
      "Truncating audio 4500/5384 (84%)\n",
      "Truncating audio 4600/5384 (85%)\n",
      "Truncating audio 4700/5384 (87%)\n",
      "Truncating audio 4800/5384 (89%)\n",
      "Truncating audio 4900/5384 (91%)\n",
      "Truncating audio 5000/5384 (93%)\n",
      "Truncating audio 5100/5384 (95%)\n",
      "Truncating audio 5200/5384 (97%)\n",
      "Truncating audio 5300/5384 (98%)\n"
     ]
    }
   ],
   "source": [
    "def run_cadence_feature_extraction_pipeline(data_input_path = '../../data/TIMIT-fake', silence_threshold = 0.005, low_pass_filter_cutoff = 10):\n",
    "    \n",
    "    ## PREPROCESS\n",
    "    # Extract input files\n",
    "    print('Extracting input files')\n",
    "    all_wav_files, all_flags = extract_input_files(data_input_path)\n",
    "    \n",
    "    # Balance data\n",
    "    print('Balancing data')\n",
    "    rebalanced_wav_files, rebalanced_flags = balance_data(all_wav_files)\n",
    "    \n",
    "    # Normalise amplitudes\n",
    "    print('Normalizing amplitudes')\n",
    "    normalized_audios = normalize_audio_amplitudes(rebalanced_wav_files)\n",
    "    \n",
    "    # Truncate silences\n",
    "    print('Truncating silences')\n",
    "    truncated_audios, start_ids, end_ids = truncate_silences(normalized_audios, silence_threshold, window_size=100)\n",
    "    \n",
    "    ## FEATURE ENGINEERING\n",
    "    # Extract pauses \n",
    "    return truncated_audios\n",
    "\n",
    "#truncated_audios = run_cadence_feature_extraction_pipeline()\n",
    "    \n",
    "    \n",
    "    "
   ]
  },
  {
   "cell_type": "code",
   "execution_count": 165,
   "id": "59a2325e-df74-4ff2-9455-097f70b35c52",
   "metadata": {},
   "outputs": [],
   "source": [
    "truncated_audios_temp = truncated_audios"
   ]
  },
  {
   "cell_type": "code",
   "execution_count": null,
   "id": "b986e74b-09e4-4be1-b83b-77b39ba23dce",
   "metadata": {},
   "outputs": [],
   "source": []
  },
  {
   "cell_type": "markdown",
   "id": "bd47f490-126a-412e-adfb-de16b0d28432",
   "metadata": {},
   "source": [
    "# X. Test on timit non-processed to see if same results arise"
   ]
  },
  {
   "cell_type": "code",
   "execution_count": null,
   "id": "7c0b43a9-8f6f-4a22-b041-a4e8254d8548",
   "metadata": {},
   "outputs": [],
   "source": []
  }
 ],
 "metadata": {
  "kernelspec": {
   "display_name": "cadence-modelling",
   "language": "python",
   "name": "cadence-modelling"
  },
  "language_info": {
   "codemirror_mode": {
    "name": "ipython",
    "version": 3
   },
   "file_extension": ".py",
   "mimetype": "text/x-python",
   "name": "python",
   "nbconvert_exporter": "python",
   "pygments_lexer": "ipython3",
   "version": "3.8.10"
  }
 },
 "nbformat": 4,
 "nbformat_minor": 5
}
